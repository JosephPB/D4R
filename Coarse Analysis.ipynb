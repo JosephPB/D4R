{
 "cells": [
  {
   "cell_type": "code",
   "execution_count": null,
   "metadata": {
    "collapsed": true
   },
   "outputs": [],
   "source": [
    "import numpy as np\n",
    "import pandas as pd\n",
    "import matplotlib.pyplot as plt\n",
    "import pickle\n",
    "import sqlite3"
   ]
  },
  {
   "cell_type": "code",
   "execution_count": null,
   "metadata": {
    "collapsed": true
   },
   "outputs": [],
   "source": [
    "Veri_Seti3_201701_In = pd.read_csv('./Dataset 3/Dataset 3_201701_In.csv')"
   ]
  },
  {
   "cell_type": "code",
   "execution_count": null,
   "metadata": {},
   "outputs": [],
   "source": [
    "pd.DataFrame(Veri_Seti3_201701_In, index = [0,1,2,3,4])"
   ]
  },
  {
   "cell_type": "markdown",
   "metadata": {},
   "source": [
    "## Extract information from January dataset"
   ]
  },
  {
   "cell_type": "code",
   "execution_count": null,
   "metadata": {
    "collapsed": true
   },
   "outputs": [],
   "source": [
    "JanuaryIn = np.asarray(Veri_Seti3_201701_In)"
   ]
  },
  {
   "cell_type": "code",
   "execution_count": null,
   "metadata": {
    "collapsed": true
   },
   "outputs": [],
   "source": [
    "length, width = JanuaryIn.shape"
   ]
  },
  {
   "cell_type": "code",
   "execution_count": null,
   "metadata": {},
   "outputs": [],
   "source": [
    "print ('there are {} calls recorded in this dataset'.format(length))"
   ]
  },
  {
   "cell_type": "markdown",
   "metadata": {},
   "source": [
    "### Extract timestamp"
   ]
  },
  {
   "cell_type": "code",
   "execution_count": null,
   "metadata": {
    "collapsed": true
   },
   "outputs": [],
   "source": [
    "timestamp = pd.to_datetime(JanuaryIn[0:length,1], format=\"%d-%m-%Y %H:%M\")"
   ]
  },
  {
   "cell_type": "code",
   "execution_count": null,
   "metadata": {
    "collapsed": true
   },
   "outputs": [],
   "source": [
    "date = np.asarray(timestamp.date)"
   ]
  },
  {
   "cell_type": "markdown",
   "metadata": {},
   "source": [
    "### Extract called ID"
   ]
  },
  {
   "cell_type": "code",
   "execution_count": null,
   "metadata": {
    "collapsed": true
   },
   "outputs": [],
   "source": [
    "callerID = JanuaryIn[:,0]"
   ]
  },
  {
   "cell_type": "code",
   "execution_count": null,
   "metadata": {
    "collapsed": true
   },
   "outputs": [],
   "source": [
    "callerID = callerID.astype(str)"
   ]
  },
  {
   "cell_type": "markdown",
   "metadata": {},
   "source": [
    "### Extract prefix"
   ]
  },
  {
   "cell_type": "code",
   "execution_count": null,
   "metadata": {
    "collapsed": true
   },
   "outputs": [],
   "source": [
    "prefix = []\n",
    "for i in callerID:\n",
    "    prefix.append(i[0])\n",
    "\n",
    "prefix = np.asarray(prefix)\n",
    "prefix = prefix.astype(int)"
   ]
  },
  {
   "cell_type": "code",
   "execution_count": null,
   "metadata": {},
   "outputs": [],
   "source": [
    "unique, counts = np.unique(prefix, return_counts=True)\n",
    "print ('there are {} refugee calls in this dataset'.format(counts[1]))"
   ]
  },
  {
   "cell_type": "markdown",
   "metadata": {},
   "source": [
    "### Extract city ID"
   ]
  },
  {
   "cell_type": "code",
   "execution_count": null,
   "metadata": {
    "collapsed": true
   },
   "outputs": [],
   "source": [
    "cityID = JanuaryIn[:,3]"
   ]
  },
  {
   "cell_type": "markdown",
   "metadata": {},
   "source": [
    "## Analyse data"
   ]
  },
  {
   "cell_type": "code",
   "execution_count": null,
   "metadata": {
    "collapsed": true
   },
   "outputs": [],
   "source": [
    "to_analyse = np.unique(callerID[prefix==2])"
   ]
  },
  {
   "cell_type": "markdown",
   "metadata": {},
   "source": [
    "Accessing date"
   ]
  },
  {
   "cell_type": "code",
   "execution_count": null,
   "metadata": {
    "collapsed": true
   },
   "outputs": [],
   "source": [
    "h1 = callerID[timestamp.hour >= 18]\n",
    "h2 = callerID[timestamp.hour <= 7]\n",
    "h = np.append(h1,h2)\n",
    "overlap = np.intersect1d(h,to_analyse)"
   ]
  },
  {
   "cell_type": "code",
   "execution_count": null,
   "metadata": {
    "collapsed": true
   },
   "outputs": [],
   "source": [
    "evening_location = {}\n",
    "for i in overlap:\n",
    "    evening_location[str(i)] = {\n",
    "        'cities':[],\n",
    "        'dates':[]\n",
    "    }"
   ]
  },
  {
   "cell_type": "code",
   "execution_count": null,
   "metadata": {
    "collapsed": true,
    "scrolled": true
   },
   "outputs": [],
   "source": [
    "#bottleneck - fix this\n",
    "bar = progressbar.ProgressBar(maxval=len(overlap), \\\n",
    "    widgets=[progressbar.Bar('=', '[', ']'), ' ', progressbar.Percentage()])\n",
    "bar.start()\n",
    "\n",
    "counter = 0\n",
    "for i in overlap:\n",
    "    location =  np.where(callerID == i)\n",
    "    cities = cityID[location[0]]\n",
    "    evening_location[i]['cities'] = cities\n",
    "    dates = date[location[0]]\n",
    "    evening_location[i]['dates'] = dates\n",
    "    counter += 1\n",
    "    #if counter%100 == 0:\n",
    "    #    print (counter)\n",
    "    bar.update(counter+1)\n",
    "#    sleep(0.1)\n",
    "bar.finish()"
   ]
  },
  {
   "cell_type": "markdown",
   "metadata": {},
   "source": [
    "Save evening_locations file"
   ]
  },
  {
   "cell_type": "code",
   "execution_count": null,
   "metadata": {
    "collapsed": true
   },
   "outputs": [],
   "source": [
    "with open(\"evening_location.pkl\", \"wb\") as fp:   #Pickling\n",
    "    pickle.dump(evening_location, fp)"
   ]
  },
  {
   "cell_type": "code",
   "execution_count": null,
   "metadata": {
    "collapsed": true
   },
   "outputs": [],
   "source": [
    "with open(\"evening_location.pkl\", \"rb\") as fp:   # Unpickling\n",
    "    evening_location = pickle.load(fp)"
   ]
  },
  {
   "cell_type": "code",
   "execution_count": null,
   "metadata": {
    "collapsed": true
   },
   "outputs": [],
   "source": [
    "mobile = [] #find the refugees who spend their time in more that one city in the evening over the month\n",
    "for i in evening_location:\n",
    "    unique, counts = np.unique(evening_location[i]['cities'], return_counts=True)\n",
    "    if len(unique) > 1:\n",
    "        mobile.append(i)"
   ]
  },
  {
   "cell_type": "code",
   "execution_count": null,
   "metadata": {
    "collapsed": true
   },
   "outputs": [],
   "source": [
    "print ('there are {} callers out ot 50,000 refugees who moved cities'.format(len(mobile)))"
   ]
  },
  {
   "cell_type": "markdown",
   "metadata": {},
   "source": [
    "Calculated cities moved between (i.e. were in 'residence' for for more that 4 nights) "
   ]
  },
  {
   "cell_type": "code",
   "execution_count": null,
   "metadata": {
    "collapsed": true
   },
   "outputs": [],
   "source": [
    "#for i in mobile:\n",
    "#    moved = [evening_location[i]['cities'][0]]\n",
    "#    date_moved =  date[0]\n",
    "#    for j in range(1,len(evening_location[i]['cities'])):\n",
    "#        if evening_location[i]['cities'][j] != evening_location[i]['cities'][j-1]:\n",
    "#            diff = np.timedelta64(evening_location[i]['dates'][j-1]-date_moved)\n",
    "#            diff = int(diff.astype('timedelta64[D]') / np.timedelta64(1, 'D'))\n",
    "#            if diff >=4:\n",
    "#                moved.append(evening_location[i]['cities'][j-1])\n",
    "#        date_moved = evening_location[i]['dates'][j]\n",
    "#    evening_location[i]['moved'] = moved"
   ]
  },
  {
   "cell_type": "code",
   "execution_count": null,
   "metadata": {},
   "outputs": [],
   "source": [
    "for i in mobile:\n",
    "    moved = []\n",
    "    moved.append(evening_location[i]['cities'][0])\n",
    "    counter = 0\n",
    "    for j in range(1,len(evening_location[i]['cities'])):\n",
    "        if evening_location[i]['cities'][j] == evening_location[i]['cities'][j-1]:\n",
    "            counter += 1\n",
    "        else:\n",
    "            counter = 0\n",
    "        if counter == 4 and evening_location[i]['cities'][j] != moved[-1]:\n",
    "            moved.append(evening_location[i]['cities'][j])\n",
    "    evening_location[i]['moved'] = moved"
   ]
  },
  {
   "cell_type": "code",
   "execution_count": null,
   "metadata": {},
   "outputs": [],
   "source": [
    "low_mobility = []\n",
    "medium_mobility = []\n",
    "high_mobility = []\n",
    "for i in mobile:\n",
    "    if len(evening_location[i]['moved']) <=2:\n",
    "        low_mobility.append(i)\n",
    "    elif 2 < len(evening_location[i]['moved']) <=5:\n",
    "        medium_mobility.append(i)\n",
    "    else:\n",
    "        high_mobility.append(i)"
   ]
  },
  {
   "cell_type": "code",
   "execution_count": null,
   "metadata": {
    "collapsed": true
   },
   "outputs": [],
   "source": [
    "print ('There are {} refugees classed as low mobility'.format(len(low_mobility)))\n",
    "print ('There are {} refugees classed as medium mobility'.format(len(medium_mobility)))\n",
    "print ('There are {} refugees classed as high mobility'.format(len(high_mobility)))"
   ]
  },
  {
   "cell_type": "markdown",
   "metadata": {
    "collapsed": true
   },
   "source": [
    "### Compare against non-refugee population"
   ]
  },
  {
   "cell_type": "code",
   "execution_count": null,
   "metadata": {
    "collapsed": true
   },
   "outputs": [],
   "source": [
    "non_to_analyse = np.unique(callerID[prefix==1])"
   ]
  },
  {
   "cell_type": "code",
   "execution_count": null,
   "metadata": {
    "collapsed": true
   },
   "outputs": [],
   "source": [
    "non_h1 = callerID[timestamp.hour >= 18]\n",
    "non_h2 = callerID[timestamp.hour <= 7]\n",
    "non_h = np.append(non_h1,non_h2)\n",
    "non_overlap = np.intersect1d(non_h,non_to_analyse)"
   ]
  },
  {
   "cell_type": "code",
   "execution_count": null,
   "metadata": {
    "collapsed": true
   },
   "outputs": [],
   "source": [
    "non_evening_location = {}\n",
    "for i in non_overlap:\n",
    "    non_evening_location[str(i)] = {\n",
    "        'cities':[],\n",
    "        'dates':[]\n",
    "    }"
   ]
  },
  {
   "cell_type": "code",
   "execution_count": null,
   "metadata": {
    "collapsed": true
   },
   "outputs": [],
   "source": [
    "##bottleneck - could parallelise better\n",
    "for i in non_overlap:\n",
    "    location =  np.where(callerID == i)\n",
    "    cities = cityID[location[0]]\n",
    "    non_evening_location[i]['cities'] = cities\n",
    "    dates = date[location[0]]\n",
    "    non_evening_location[i]['dates'] = dates"
   ]
  },
  {
   "cell_type": "code",
   "execution_count": null,
   "metadata": {
    "collapsed": true
   },
   "outputs": [],
   "source": [
    "with open(\"non_evening_location.txt\", \"wb\") as fp:   #Pickling\n",
    "    pickle.dump(non_evening_location, fp)"
   ]
  },
  {
   "cell_type": "code",
   "execution_count": null,
   "metadata": {
    "collapsed": true
   },
   "outputs": [],
   "source": [
    "with open(\"non_evening_location.txt\", \"rb\") as fp:   # Unpickling\n",
    "    non_evening_location = pickle.load(fp)"
   ]
  },
  {
   "cell_type": "code",
   "execution_count": null,
   "metadata": {
    "collapsed": true
   },
   "outputs": [],
   "source": [
    "non_mobile = [] #find the refugees who spend their time in more that one city in the evening over the month\n",
    "for i in non_evening_location:\n",
    "    unique, counts = np.unique(non_evening_location[i]['cities'], return_counts=True)\n",
    "    if len(unique) > 1:\n",
    "        non_mobile.append(i)"
   ]
  },
  {
   "cell_type": "code",
   "execution_count": null,
   "metadata": {
    "collapsed": true
   },
   "outputs": [],
   "source": [
    "print ('there are {} callers out ot 50,000 non-refugees who moved cities'.format(len(non_mobile)))"
   ]
  },
  {
   "cell_type": "code",
   "execution_count": null,
   "metadata": {
    "collapsed": true
   },
   "outputs": [],
   "source": [
    "print ('there are {} times as many refugees who moved cities as non-refugees'.format(\n",
    "    round(float(len(mobile))/float(len(non_mobile)),2)))"
   ]
  }
 ],
 "metadata": {
  "kernelspec": {
   "display_name": "Python 2",
   "language": "python",
   "name": "python2"
  },
  "language_info": {
   "codemirror_mode": {
    "name": "ipython",
    "version": 2
   },
   "file_extension": ".py",
   "mimetype": "text/x-python",
   "name": "python",
   "nbconvert_exporter": "python",
   "pygments_lexer": "ipython2",
   "version": "2.7.14"
  }
 },
 "nbformat": 4,
 "nbformat_minor": 2
}
