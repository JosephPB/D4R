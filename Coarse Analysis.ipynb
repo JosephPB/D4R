{
 "cells": [
  {
   "cell_type": "code",
   "execution_count": 1,
   "metadata": {
    "collapsed": true
   },
   "outputs": [],
   "source": [
    "import numpy as np\n",
    "import pandas as pd\n",
    "import matplotlib.pyplot as plt\n",
    "import pickle\n",
    "import sqlite3"
   ]
  },
  {
   "cell_type": "code",
   "execution_count": 2,
   "metadata": {
    "collapsed": true
   },
   "outputs": [],
   "source": [
    "Veri_Seti3_201701_In = pd.read_csv('./Dataset 3/Dataset 3_201701_In.csv')"
   ]
  },
  {
   "cell_type": "code",
   "execution_count": 3,
   "metadata": {},
   "outputs": [
    {
     "data": {
      "text/html": [
       "<div>\n",
       "<style scoped>\n",
       "    .dataframe tbody tr th:only-of-type {\n",
       "        vertical-align: middle;\n",
       "    }\n",
       "\n",
       "    .dataframe tbody tr th {\n",
       "        vertical-align: top;\n",
       "    }\n",
       "\n",
       "    .dataframe thead th {\n",
       "        text-align: right;\n",
       "    }\n",
       "</style>\n",
       "<table border=\"1\" class=\"dataframe\">\n",
       "  <thead>\n",
       "    <tr style=\"text-align: right;\">\n",
       "      <th></th>\n",
       "      <th>CALLER_ID</th>\n",
       "      <th>TIMESTAMP</th>\n",
       "      <th>ID</th>\n",
       "      <th>CITY_ID</th>\n",
       "    </tr>\n",
       "  </thead>\n",
       "  <tbody>\n",
       "    <tr>\n",
       "      <th>0</th>\n",
       "      <td>1100144895</td>\n",
       "      <td>02-01-2017 12:52</td>\n",
       "      <td>568</td>\n",
       "      <td>7</td>\n",
       "    </tr>\n",
       "    <tr>\n",
       "      <th>1</th>\n",
       "      <td>1100144895</td>\n",
       "      <td>02-01-2017 20:40</td>\n",
       "      <td>568</td>\n",
       "      <td>7</td>\n",
       "    </tr>\n",
       "    <tr>\n",
       "      <th>2</th>\n",
       "      <td>1100144895</td>\n",
       "      <td>02-01-2017 21:41</td>\n",
       "      <td>568</td>\n",
       "      <td>7</td>\n",
       "    </tr>\n",
       "    <tr>\n",
       "      <th>3</th>\n",
       "      <td>1100144895</td>\n",
       "      <td>03-01-2017 14:57</td>\n",
       "      <td>828</td>\n",
       "      <td>7</td>\n",
       "    </tr>\n",
       "    <tr>\n",
       "      <th>4</th>\n",
       "      <td>1100144895</td>\n",
       "      <td>05-01-2017 10:01</td>\n",
       "      <td>568</td>\n",
       "      <td>7</td>\n",
       "    </tr>\n",
       "  </tbody>\n",
       "</table>\n",
       "</div>"
      ],
      "text/plain": [
       "    CALLER_ID         TIMESTAMP   ID  CITY_ID\n",
       "0  1100144895  02-01-2017 12:52  568        7\n",
       "1  1100144895  02-01-2017 20:40  568        7\n",
       "2  1100144895  02-01-2017 21:41  568        7\n",
       "3  1100144895  03-01-2017 14:57  828        7\n",
       "4  1100144895  05-01-2017 10:01  568        7"
      ]
     },
     "execution_count": 3,
     "metadata": {},
     "output_type": "execute_result"
    }
   ],
   "source": [
    "pd.DataFrame(Veri_Seti3_201701_In, index = [0,1,2,3,4])"
   ]
  },
  {
   "cell_type": "markdown",
   "metadata": {},
   "source": [
    "## Extract information from January dataset"
   ]
  },
  {
   "cell_type": "code",
   "execution_count": 4,
   "metadata": {
    "collapsed": true
   },
   "outputs": [],
   "source": [
    "JanuaryIn = np.asarray(Veri_Seti3_201701_In)"
   ]
  },
  {
   "cell_type": "code",
   "execution_count": 5,
   "metadata": {
    "collapsed": true
   },
   "outputs": [],
   "source": [
    "length, width = JanuaryIn.shape"
   ]
  },
  {
   "cell_type": "code",
   "execution_count": 6,
   "metadata": {},
   "outputs": [
    {
     "name": "stdout",
     "output_type": "stream",
     "text": [
      "there are 998625 calls recorded in this dataset\n"
     ]
    }
   ],
   "source": [
    "print ('there are {} calls recorded in this dataset'.format(length))"
   ]
  },
  {
   "cell_type": "markdown",
   "metadata": {},
   "source": [
    "### Extract timestamp"
   ]
  },
  {
   "cell_type": "code",
   "execution_count": 7,
   "metadata": {
    "collapsed": true
   },
   "outputs": [],
   "source": [
    "timestamp = pd.to_datetime(JanuaryIn[0:length,1], format=\"%d-%m-%Y %H:%M\")"
   ]
  },
  {
   "cell_type": "markdown",
   "metadata": {},
   "source": [
    "### Extract called ID"
   ]
  },
  {
   "cell_type": "code",
   "execution_count": 8,
   "metadata": {
    "collapsed": true
   },
   "outputs": [],
   "source": [
    "callerID = JanuaryIn[:,0]"
   ]
  },
  {
   "cell_type": "code",
   "execution_count": 9,
   "metadata": {
    "collapsed": true
   },
   "outputs": [],
   "source": [
    "callerID = callerID.astype(str)"
   ]
  },
  {
   "cell_type": "markdown",
   "metadata": {},
   "source": [
    "### Extract prefix"
   ]
  },
  {
   "cell_type": "code",
   "execution_count": 10,
   "metadata": {
    "collapsed": true
   },
   "outputs": [],
   "source": [
    "prefix = []\n",
    "for i in callerID:\n",
    "    prefix.append(i[0])\n",
    "\n",
    "prefix = np.asarray(prefix)\n",
    "prefix = prefix.astype(int)"
   ]
  },
  {
   "cell_type": "code",
   "execution_count": 11,
   "metadata": {},
   "outputs": [
    {
     "name": "stdout",
     "output_type": "stream",
     "text": [
      "there are 758728 refugee calls in this dataset\n"
     ]
    }
   ],
   "source": [
    "unique, counts = np.unique(prefix, return_counts=True)\n",
    "print ('there are {} refugee calls in this dataset'.format(counts[1]))"
   ]
  },
  {
   "cell_type": "markdown",
   "metadata": {},
   "source": [
    "### Extract city ID"
   ]
  },
  {
   "cell_type": "code",
   "execution_count": 12,
   "metadata": {
    "collapsed": true
   },
   "outputs": [],
   "source": [
    "cityID = JanuaryIn[:,3]"
   ]
  },
  {
   "cell_type": "markdown",
   "metadata": {},
   "source": [
    "## Analyse data"
   ]
  },
  {
   "cell_type": "code",
   "execution_count": 92,
   "metadata": {
    "collapsed": true
   },
   "outputs": [],
   "source": [
    "to_analyse = np.unique(callerID[prefix==2])"
   ]
  },
  {
   "cell_type": "markdown",
   "metadata": {},
   "source": [
    "Accessing date"
   ]
  },
  {
   "cell_type": "code",
   "execution_count": 95,
   "metadata": {
    "scrolled": true
   },
   "outputs": [
    {
     "ename": "KeyboardInterrupt",
     "evalue": "",
     "output_type": "error",
     "traceback": [
      "\u001b[0;31m---------------------------------------------------------------------------\u001b[0m",
      "\u001b[0;31mKeyboardInterrupt\u001b[0m                         Traceback (most recent call last)",
      "\u001b[0;32m<ipython-input-95-e233a9cf9aa3>\u001b[0m in \u001b[0;36m<module>\u001b[0;34m()\u001b[0m\n\u001b[1;32m      8\u001b[0m     \u001b[0;32mfor\u001b[0m \u001b[0mj\u001b[0m \u001b[0;32min\u001b[0m \u001b[0mlocation\u001b[0m\u001b[0;34m:\u001b[0m\u001b[0;34m\u001b[0m\u001b[0m\n\u001b[1;32m      9\u001b[0m         \u001b[0;32mif\u001b[0m \u001b[0mtimestamp\u001b[0m\u001b[0;34m.\u001b[0m\u001b[0mhour\u001b[0m\u001b[0;34m[\u001b[0m\u001b[0mj\u001b[0m\u001b[0;34m]\u001b[0m \u001b[0;34m>=\u001b[0m \u001b[0;36m18\u001b[0m \u001b[0;32mor\u001b[0m \u001b[0mtimestamp\u001b[0m\u001b[0;34m.\u001b[0m\u001b[0mhour\u001b[0m\u001b[0;34m[\u001b[0m\u001b[0mj\u001b[0m\u001b[0;34m]\u001b[0m \u001b[0;34m<=\u001b[0m \u001b[0;36m7\u001b[0m\u001b[0;34m:\u001b[0m\u001b[0;34m\u001b[0m\u001b[0m\n\u001b[0;32m---> 10\u001b[0;31m             \u001b[0mdates\u001b[0m\u001b[0;34m.\u001b[0m\u001b[0mappend\u001b[0m\u001b[0;34m(\u001b[0m\u001b[0mtimestamp\u001b[0m\u001b[0;34m.\u001b[0m\u001b[0mdate\u001b[0m\u001b[0;34m[\u001b[0m\u001b[0mj\u001b[0m\u001b[0;34m]\u001b[0m\u001b[0;34m)\u001b[0m\u001b[0;34m\u001b[0m\u001b[0m\n\u001b[0m\u001b[1;32m     11\u001b[0m             \u001b[0mcities\u001b[0m\u001b[0;34m.\u001b[0m\u001b[0mappend\u001b[0m\u001b[0;34m(\u001b[0m\u001b[0mcityID\u001b[0m\u001b[0;34m[\u001b[0m\u001b[0mj\u001b[0m\u001b[0;34m]\u001b[0m\u001b[0;34m)\u001b[0m\u001b[0;34m\u001b[0m\u001b[0m\n\u001b[1;32m     12\u001b[0m     evening_location[i] = {\n",
      "\u001b[0;32m/usr/local/lib/python2.7/site-packages/pandas/core/indexes/datetimes.pyc\u001b[0m in \u001b[0;36mdate\u001b[0;34m(self)\u001b[0m\n\u001b[1;32m   2041\u001b[0m         part of Timestamps without timezone information).\n\u001b[1;32m   2042\u001b[0m         \"\"\"\n\u001b[0;32m-> 2043\u001b[0;31m         \u001b[0;32mreturn\u001b[0m \u001b[0mlibts\u001b[0m\u001b[0;34m.\u001b[0m\u001b[0mints_to_pydatetime\u001b[0m\u001b[0;34m(\u001b[0m\u001b[0mself\u001b[0m\u001b[0;34m.\u001b[0m\u001b[0mnormalize\u001b[0m\u001b[0;34m(\u001b[0m\u001b[0;34m)\u001b[0m\u001b[0;34m.\u001b[0m\u001b[0masi8\u001b[0m\u001b[0;34m,\u001b[0m \u001b[0mbox\u001b[0m\u001b[0;34m=\u001b[0m\u001b[0;34m\"date\"\u001b[0m\u001b[0;34m)\u001b[0m\u001b[0;34m\u001b[0m\u001b[0m\n\u001b[0m\u001b[1;32m   2044\u001b[0m \u001b[0;34m\u001b[0m\u001b[0m\n\u001b[1;32m   2045\u001b[0m     \u001b[0;32mdef\u001b[0m \u001b[0mnormalize\u001b[0m\u001b[0;34m(\u001b[0m\u001b[0mself\u001b[0m\u001b[0;34m)\u001b[0m\u001b[0;34m:\u001b[0m\u001b[0;34m\u001b[0m\u001b[0m\n",
      "\u001b[0;31mKeyboardInterrupt\u001b[0m: "
     ]
    }
   ],
   "source": [
    "#Not running\n",
    "#Not running\n",
    "evening_location = {}\n",
    "for i in to_analyse:\n",
    "    location = np.where(callerID == i)\n",
    "    location = np.asarray(location)\n",
    "    location = location.reshape(-1)\n",
    "    dates = []\n",
    "    cities = []\n",
    "    for j in location:\n",
    "        if timestamp.hour[j] >= 18 or timestamp.hour[j] <= 7:\n",
    "            dates.append(timestamp.date[j])\n",
    "            cities.append(cityID[j])\n",
    "    evening_location[i] = {\n",
    "    'cities':cities,\n",
    "    'dates': dates\n",
    "    }"
   ]
  },
  {
   "cell_type": "markdown",
   "metadata": {},
   "source": [
    "Save evening_locations file"
   ]
  },
  {
   "cell_type": "code",
   "execution_count": null,
   "metadata": {
    "collapsed": true
   },
   "outputs": [],
   "source": [
    "with open(\"evening_location.pkl\", \"wb\") as fp:   #Pickling\n",
    "    pickle.dump(evening_location, fp)"
   ]
  },
  {
   "cell_type": "code",
   "execution_count": 80,
   "metadata": {
    "collapsed": true
   },
   "outputs": [],
   "source": [
    "with open(\"evening_location.pkl\", \"rb\") as fp:   # Unpickling\n",
    "    evening_location = pickle.load(fp)"
   ]
  },
  {
   "cell_type": "code",
   "execution_count": 82,
   "metadata": {
    "collapsed": true
   },
   "outputs": [],
   "source": [
    "mobile = [] #find the refugees who spend their time in more that one city in the evening over the month\n",
    "for i in evening_location:\n",
    "    unique, counts = np.unique(evening_location[i]['cities'], return_counts=True)\n",
    "    if len(unique) > 1:\n",
    "        mobile.append(i)"
   ]
  },
  {
   "cell_type": "code",
   "execution_count": 83,
   "metadata": {},
   "outputs": [
    {
     "name": "stdout",
     "output_type": "stream",
     "text": [
      "there are 1159 callers out ot 50,000 refugees who moved cities\n"
     ]
    }
   ],
   "source": [
    "print ('there are {} callers out ot 50,000 refugees who moved cities'.format(len(mobile)))"
   ]
  },
  {
   "cell_type": "markdown",
   "metadata": {},
   "source": [
    "Calculated cities moved between (i.e. were in 'residence' for for more that 4 nights) "
   ]
  },
  {
   "cell_type": "code",
   "execution_count": 86,
   "metadata": {
    "collapsed": true
   },
   "outputs": [],
   "source": [
    "for i in mobile:\n",
    "    moved = []\n",
    "    moved.append(evening_location[i]['cities'][0])\n",
    "    counter = 0\n",
    "    for j in range(1,len(evening_location[i]['cities'])):\n",
    "        if evening_location[i]['cities'][j] == evening_location[i]['cities'][j-1]:\n",
    "            counter += 1\n",
    "        else:\n",
    "            counter = 0\n",
    "        if counter == 4 and evening_location[i]['cities'][j] != moved[-1]:\n",
    "            moved.append(evening_location[i]['cities'][j])\n",
    "    evening_location[i]['moved'] = moved"
   ]
  },
  {
   "cell_type": "code",
   "execution_count": 88,
   "metadata": {
    "collapsed": true
   },
   "outputs": [],
   "source": [
    "low_mobility = []\n",
    "medium_mobility = []\n",
    "high_mobility = []\n",
    "for i in mobile:\n",
    "    if len(evening_location[i]['moved']) <=2:\n",
    "        low_mobility.append(i)\n",
    "    elif 2 < len(evening_location[i]) <=5:\n",
    "        medium_mobility.append(i)\n",
    "    else:\n",
    "        high_mobility.append(i)"
   ]
  },
  {
   "cell_type": "code",
   "execution_count": 91,
   "metadata": {},
   "outputs": [
    {
     "name": "stdout",
     "output_type": "stream",
     "text": [
      "There are 997 refugees classed as low mobility\n",
      "There are 162 refugees classed as medium mobility\n",
      "There are 0 refugees classed as high mobility\n"
     ]
    }
   ],
   "source": [
    "print ('There are {} refugees classed as low mobility'.format(len(low_mobility)))\n",
    "print ('There are {} refugees classed as medium mobility'.format(len(medium_mobility)))\n",
    "print ('There are {} refugees classed as high mobility'.format(len(high_mobility)))"
   ]
  },
  {
   "cell_type": "code",
   "execution_count": null,
   "metadata": {
    "collapsed": true
   },
   "outputs": [],
   "source": []
  },
  {
   "cell_type": "markdown",
   "metadata": {
    "collapsed": true
   },
   "source": [
    "Compare against non-refugee population"
   ]
  },
  {
   "cell_type": "code",
   "execution_count": 18,
   "metadata": {
    "collapsed": true
   },
   "outputs": [],
   "source": [
    "not_to_analyse = np.unique(callerID[prefix==1])"
   ]
  },
  {
   "cell_type": "code",
   "execution_count": 61,
   "metadata": {
    "collapsed": true
   },
   "outputs": [],
   "source": [
    "non_evening_location = [] #find the cities refugees are in in the evening\n",
    "for i in non_to_analyse:\n",
    "    location = np.where(callerID == i)\n",
    "    location = np.asarray(location)\n",
    "    location = location.reshape(-1)\n",
    "    dates = []\n",
    "    cities = []\n",
    "    for j in location:\n",
    "        if hours[j] >= 18 or hours[j] <= 7:\n",
    "            dates.append(day_month[j])\n",
    "            cities.append(cityID[j])\n",
    "    non_evening_location.append(i)\n",
    "    non_evening_location.append(cities)\n",
    "    non_evening_location.append(dates)"
   ]
  },
  {
   "cell_type": "code",
   "execution_count": 62,
   "metadata": {
    "collapsed": true
   },
   "outputs": [],
   "source": [
    "with open(\"non_evening_location.txt\", \"wb\") as fp:   #Pickling\n",
    "    pickle.dump(non_evening_location, fp)"
   ]
  },
  {
   "cell_type": "code",
   "execution_count": 19,
   "metadata": {},
   "outputs": [
    {
     "ename": "IOError",
     "evalue": "[Errno 2] No such file or directory: 'non_evening_location.txt'",
     "output_type": "error",
     "traceback": [
      "\u001b[0;31m---------------------------------------------------------------------------\u001b[0m",
      "\u001b[0;31mIOError\u001b[0m                                   Traceback (most recent call last)",
      "\u001b[0;32m<ipython-input-19-09ff86eaf999>\u001b[0m in \u001b[0;36m<module>\u001b[0;34m()\u001b[0m\n\u001b[0;32m----> 1\u001b[0;31m \u001b[0;32mwith\u001b[0m \u001b[0mopen\u001b[0m\u001b[0;34m(\u001b[0m\u001b[0;34m\"non_evening_location.txt\"\u001b[0m\u001b[0;34m,\u001b[0m \u001b[0;34m\"rb\"\u001b[0m\u001b[0;34m)\u001b[0m \u001b[0;32mas\u001b[0m \u001b[0mfp\u001b[0m\u001b[0;34m:\u001b[0m   \u001b[0;31m# Unpickling\u001b[0m\u001b[0;34m\u001b[0m\u001b[0m\n\u001b[0m\u001b[1;32m      2\u001b[0m     \u001b[0mnon_evening_location\u001b[0m \u001b[0;34m=\u001b[0m \u001b[0mpickle\u001b[0m\u001b[0;34m.\u001b[0m\u001b[0mload\u001b[0m\u001b[0;34m(\u001b[0m\u001b[0mfp\u001b[0m\u001b[0;34m)\u001b[0m\u001b[0;34m\u001b[0m\u001b[0m\n",
      "\u001b[0;31mIOError\u001b[0m: [Errno 2] No such file or directory: 'non_evening_location.txt'"
     ]
    }
   ],
   "source": [
    "with open(\"non_evening_location.txt\", \"rb\") as fp:   # Unpickling\n",
    "    non_evening_location = pickle.load(fp)"
   ]
  },
  {
   "cell_type": "code",
   "execution_count": 64,
   "metadata": {
    "collapsed": true
   },
   "outputs": [],
   "source": [
    "non_to_plot = [] #find the refugees who spend their time in more that one city in the evening over the month\n",
    "i = 1\n",
    "while i < len(non_evening_location):\n",
    "    unique, counts = np.unique(non_evening_location[i], return_counts=True)\n",
    "    if len(unique) > 1:\n",
    "        non_to_plot.append(non_evening_location[i-1])\n",
    "        non_to_plot.append(non_evening_location[i])\n",
    "        non_to_plot.append(non_evening_location[i+1])\n",
    "    i += 3"
   ]
  },
  {
   "cell_type": "code",
   "execution_count": 76,
   "metadata": {},
   "outputs": [
    {
     "name": "stdout",
     "output_type": "stream",
     "text": [
      "there are 449 callers out ot 50,000 refugees who moved cities\n"
     ]
    }
   ],
   "source": [
    "print ('there are {} callers out ot 50,000 refugees who moved cities'.format(len(non_to_plot)/3))"
   ]
  },
  {
   "cell_type": "code",
   "execution_count": 77,
   "metadata": {},
   "outputs": [
    {
     "name": "stdout",
     "output_type": "stream",
     "text": [
      "there are 2.58 times as many refugees who moved cities as non-refugees\n"
     ]
    }
   ],
   "source": [
    "print ('there are {} times as many refugees who moved cities as non-refugees'.format(\n",
    "    round(float(len(to_plot))/float(len(non_to_plot)),2)))"
   ]
  }
 ],
 "metadata": {
  "kernelspec": {
   "display_name": "Python 2",
   "language": "python",
   "name": "python2"
  },
  "language_info": {
   "codemirror_mode": {
    "name": "ipython",
    "version": 2
   },
   "file_extension": ".py",
   "mimetype": "text/x-python",
   "name": "python",
   "nbconvert_exporter": "python",
   "pygments_lexer": "ipython2",
   "version": "2.7.14"
  }
 },
 "nbformat": 4,
 "nbformat_minor": 2
}
