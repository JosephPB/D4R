{
 "cells": [
  {
   "cell_type": "code",
   "execution_count": 16,
   "metadata": {},
   "outputs": [],
   "source": [
    "import numpy as np\n",
    "import cPickle as pickle\n",
    "import matplotlib.pyplot as plt\n",
    "import pandas as pd"
   ]
  },
  {
   "cell_type": "code",
   "execution_count": 2,
   "metadata": {},
   "outputs": [],
   "source": [
    "with open(\"evening_location_main_unordered.pkl\", \"rb\") as fp:   # Unpickling\n",
    "    evening_location_main_unordered = pickle.load(fp)"
   ]
  },
  {
   "cell_type": "code",
   "execution_count": 3,
   "metadata": {},
   "outputs": [
    {
     "data": {
      "text/plain": [
       "18050"
      ]
     },
     "execution_count": 3,
     "metadata": {},
     "output_type": "execute_result"
    }
   ],
   "source": [
    "len(evening_location_main_unordered)"
   ]
  },
  {
   "cell_type": "code",
   "execution_count": 4,
   "metadata": {},
   "outputs": [],
   "source": [
    "mobile = [] #find the refugees who spend their time in more that one city in the evening over the month\n",
    "for i in evening_location_main_unordered:\n",
    "    unique, counts = np.unique(evening_location_main_unordered[i]['cities'], return_counts=True)\n",
    "    if len(unique) > 1:\n",
    "        mobile.append(i)"
   ]
  },
  {
   "cell_type": "code",
   "execution_count": 5,
   "metadata": {},
   "outputs": [],
   "source": [
    "evening_location_main = {}\n",
    "for i in evening_location_main_unordered:\n",
    "    cities = evening_location_main_unordered[i]['cities']\n",
    "    dates = evening_location_main_unordered[i]['dates']\n",
    "    cities_ordered = [x for _,x in sorted(zip(dates,cities))]\n",
    "    dates_ordered = [y for y,_ in sorted(zip(dates,cities))]\n",
    "    evening_location_main[i] = {\n",
    "        'cities': cities_ordered,\n",
    "        'dates': dates_ordered\n",
    "    }"
   ]
  },
  {
   "cell_type": "code",
   "execution_count": 6,
   "metadata": {},
   "outputs": [
    {
     "data": {
      "text/plain": [
       "18050"
      ]
     },
     "execution_count": 6,
     "metadata": {},
     "output_type": "execute_result"
    }
   ],
   "source": [
    "len(evening_location_main)"
   ]
  },
  {
   "cell_type": "code",
   "execution_count": 8,
   "metadata": {},
   "outputs": [],
   "source": [
    "for i in mobile:\n",
    "    moved = [evening_location_main[i]['cities'][0]]\n",
    "    date_moved = evening_location_main[i]['dates'][0]\n",
    "    for j in range(1, len(evening_location_main[i]['cities'])):\n",
    "        diff = np.timedelta64(evening_location_main[i]['dates'][j-1]-date_moved)\n",
    "        diff = int(diff.astype('timedelta64[D]') / np.timedelta64(1, 'D'))\n",
    "        if diff >=4 and evening_location_main[i]['cities'][j-1] != moved[-1]:\n",
    "            moved.append(evening_location_main[i]['cities'][j-1])\n",
    "            date_moved = evening_location_main[i]['dates'][j]\n",
    "    evening_location_main[i]['moved'] = moved"
   ]
  },
  {
   "cell_type": "code",
   "execution_count": 22,
   "metadata": {},
   "outputs": [],
   "source": [
    "low_mobility = []\n",
    "medium_mobility = []\n",
    "high_mobility = []\n",
    "for i in mobile:\n",
    "    if len(evening_location_main[i]['moved']) <=3:\n",
    "        low_mobility.append(i)\n",
    "    elif 2 < len(evening_location_main[i]['moved']) <=10:\n",
    "        medium_mobility.append(i)\n",
    "    else:\n",
    "        high_mobility.append(i)"
   ]
  },
  {
   "cell_type": "code",
   "execution_count": 23,
   "metadata": {},
   "outputs": [
    {
     "name": "stdout",
     "output_type": "stream",
     "text": [
      "There are 2737 refugees classed as low mobility\n",
      "There are 5040 refugees classed as medium mobility\n",
      "There are 4411 refugees classed as high mobility\n"
     ]
    }
   ],
   "source": [
    "print ('There are {} refugees classed as low mobility'.format(len(low_mobility)))\n",
    "print ('There are {} refugees classed as medium mobility'.format(len(medium_mobility)))\n",
    "print ('There are {} refugees classed as high mobility'.format(len(high_mobility)))"
   ]
  },
  {
   "cell_type": "code",
   "execution_count": 24,
   "metadata": {},
   "outputs": [],
   "source": [
    "bad_cities = np.zeros(81)"
   ]
  },
  {
   "cell_type": "code",
   "execution_count": 25,
   "metadata": {},
   "outputs": [],
   "source": [
    "for i in mobile:\n",
    "    moved = evening_location_main[i]['moved']\n",
    "    unique, counts = np.unique(moved, return_counts=True)\n",
    "    for j in range(len(unique)):\n",
    "        # think about criterion for repeated city!!!\n",
    "        if counts[j] == 1:\n",
    "            bad_cities[unique[j]-1] += 1"
   ]
  },
  {
   "cell_type": "code",
   "execution_count": 26,
   "metadata": {},
   "outputs": [],
   "source": [
    "city_mapping = pd.read_csv('./Mapping IDs/Dataset3_City_Mapping.csv')"
   ]
  },
  {
   "cell_type": "code",
   "execution_count": 27,
   "metadata": {},
   "outputs": [],
   "source": [
    "bad_cities_names = {}"
   ]
  },
  {
   "cell_type": "code",
   "execution_count": 28,
   "metadata": {},
   "outputs": [],
   "source": [
    "city_mapping = np.asarray(city_mapping)"
   ]
  },
  {
   "cell_type": "code",
   "execution_count": 29,
   "metadata": {},
   "outputs": [],
   "source": [
    "for i in range(len(city_mapping)):\n",
    "    bad_cities_names[city_mapping[i,1]] = bad_cities[i]"
   ]
  },
  {
   "cell_type": "code",
   "execution_count": 31,
   "metadata": {},
   "outputs": [
    {
     "name": "stdout",
     "output_type": "stream",
     "text": [
      "The worst cities for refugees moving out of are:\n",
      "KAHRAMANMARAS\n",
      "GAZIANTEP\n",
      "BALIKESIR\n",
      "MERSIN\n",
      "SAKARYA\n",
      "YALOVA\n",
      "CANAKKALE\n",
      "KOCAELI\n",
      "ANTALYA\n",
      "AYDIN\n",
      "ANKARA\n",
      "ADANA\n",
      "BOLU\n",
      "MUGLA\n",
      "TEKIRDAG\n",
      "ISTANBUL\n",
      "AFYON\n",
      "BURSA\n",
      "KONYA\n",
      "IZMIR\n"
     ]
    }
   ],
   "source": [
    "print ('The worst cities for refugees moving out of are:')\n",
    "for i in bad_cities_names:\n",
    "    if bad_cities_names[i] >=400:\n",
    "        print i"
   ]
  },
  {
   "cell_type": "code",
   "execution_count": 32,
   "metadata": {},
   "outputs": [],
   "source": [
    "with open(\"bad_cities.pkl\", \"wb\") as fp:   # Unpickling\n",
    "    pickle.dump(bad_cities, fp, 1)"
   ]
  },
  {
   "cell_type": "code",
   "execution_count": null,
   "metadata": {},
   "outputs": [],
   "source": []
  }
 ],
 "metadata": {
  "kernelspec": {
   "display_name": "Python 2",
   "language": "python",
   "name": "python2"
  },
  "language_info": {
   "codemirror_mode": {
    "name": "ipython",
    "version": 2
   },
   "file_extension": ".py",
   "mimetype": "text/x-python",
   "name": "python",
   "nbconvert_exporter": "python",
   "pygments_lexer": "ipython2",
   "version": "2.7.14"
  }
 },
 "nbformat": 4,
 "nbformat_minor": 2
}
