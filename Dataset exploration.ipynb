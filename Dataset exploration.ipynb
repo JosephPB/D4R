{
 "cells": [
  {
   "cell_type": "code",
   "execution_count": 2,
   "metadata": {
    "collapsed": true
   },
   "outputs": [],
   "source": [
    "import pandas as pd"
   ]
  },
  {
   "cell_type": "markdown",
   "metadata": {},
   "source": [
    "# Dataset analysis"
   ]
  },
  {
   "cell_type": "markdown",
   "metadata": {},
   "source": [
    "More information on datasets can be found here: http://d4r.turktelekom.com.tr/presentation/data"
   ]
  },
  {
   "cell_type": "markdown",
   "metadata": {},
   "source": [
    "## Dataset 1_Voice"
   ]
  },
  {
   "cell_type": "markdown",
   "metadata": {},
   "source": [
    "Calls and duration by site (ingoing and outgoing) by month (one month per file)"
   ]
  },
  {
   "cell_type": "code",
   "execution_count": 16,
   "metadata": {},
   "outputs": [],
   "source": [
    "Veri_Seti1_201701 = pd.read_csv('./Dataset 1_Voice/Veri_Seti1_201701.csv')"
   ]
  },
  {
   "cell_type": "code",
   "execution_count": 38,
   "metadata": {},
   "outputs": [
    {
     "data": {
      "text/html": [
       "<div>\n",
       "<style scoped>\n",
       "    .dataframe tbody tr th:only-of-type {\n",
       "        vertical-align: middle;\n",
       "    }\n",
       "\n",
       "    .dataframe tbody tr th {\n",
       "        vertical-align: top;\n",
       "    }\n",
       "\n",
       "    .dataframe thead th {\n",
       "        text-align: right;\n",
       "    }\n",
       "</style>\n",
       "<table border=\"1\" class=\"dataframe\">\n",
       "  <thead>\n",
       "    <tr style=\"text-align: right;\">\n",
       "      <th></th>\n",
       "      <th>TIMESTAMP</th>\n",
       "      <th>OUTGOING_SITE_ID</th>\n",
       "      <th>INCOMING_SITE_ID</th>\n",
       "      <th>NUMBER_OF_CALLS</th>\n",
       "      <th>NUMBER_OF_REFUGEE_CALLS</th>\n",
       "      <th>NUMBER_OF_TOTAL_CALL_DURATION</th>\n",
       "      <th>REFUGEE_CALL_DURATION</th>\n",
       "    </tr>\n",
       "  </thead>\n",
       "  <tbody>\n",
       "    <tr>\n",
       "      <th>0</th>\n",
       "      <td>01-01-2017 00</td>\n",
       "      <td>-99</td>\n",
       "      <td>9999</td>\n",
       "      <td>5</td>\n",
       "      <td>0</td>\n",
       "      <td>246</td>\n",
       "      <td>0</td>\n",
       "    </tr>\n",
       "    <tr>\n",
       "      <th>1</th>\n",
       "      <td>01-01-2017 00</td>\n",
       "      <td>5053270</td>\n",
       "      <td>9999</td>\n",
       "      <td>2</td>\n",
       "      <td>2</td>\n",
       "      <td>834</td>\n",
       "      <td>834</td>\n",
       "    </tr>\n",
       "    <tr>\n",
       "      <th>2</th>\n",
       "      <td>01-01-2017 00</td>\n",
       "      <td>5053280</td>\n",
       "      <td>9999</td>\n",
       "      <td>1</td>\n",
       "      <td>0</td>\n",
       "      <td>4200</td>\n",
       "      <td>0</td>\n",
       "    </tr>\n",
       "    <tr>\n",
       "      <th>3</th>\n",
       "      <td>01-01-2017 00</td>\n",
       "      <td>5053290</td>\n",
       "      <td>9999</td>\n",
       "      <td>1</td>\n",
       "      <td>0</td>\n",
       "      <td>138</td>\n",
       "      <td>0</td>\n",
       "    </tr>\n",
       "    <tr>\n",
       "      <th>4</th>\n",
       "      <td>01-01-2017 00</td>\n",
       "      <td>5053291</td>\n",
       "      <td>9999</td>\n",
       "      <td>1</td>\n",
       "      <td>0</td>\n",
       "      <td>15</td>\n",
       "      <td>0</td>\n",
       "    </tr>\n",
       "  </tbody>\n",
       "</table>\n",
       "</div>"
      ],
      "text/plain": [
       "       TIMESTAMP  OUTGOING_SITE_ID  INCOMING_SITE_ID  NUMBER_OF_CALLS  \\\n",
       "0  01-01-2017 00               -99              9999                5   \n",
       "1  01-01-2017 00           5053270              9999                2   \n",
       "2  01-01-2017 00           5053280              9999                1   \n",
       "3  01-01-2017 00           5053290              9999                1   \n",
       "4  01-01-2017 00           5053291              9999                1   \n",
       "\n",
       "   NUMBER_OF_REFUGEE_CALLS  NUMBER_OF_TOTAL_CALL_DURATION  \\\n",
       "0                        0                            246   \n",
       "1                        2                            834   \n",
       "2                        0                           4200   \n",
       "3                        0                            138   \n",
       "4                        0                             15   \n",
       "\n",
       "   REFUGEE_CALL_DURATION  \n",
       "0                      0  \n",
       "1                    834  \n",
       "2                      0  \n",
       "3                      0  \n",
       "4                      0  "
      ]
     },
     "execution_count": 38,
     "metadata": {},
     "output_type": "execute_result"
    }
   ],
   "source": [
    "pd.DataFrame(Veri_Seti1_201701, index = [0,1,2,3,4])"
   ]
  },
  {
   "cell_type": "markdown",
   "metadata": {},
   "source": [
    "## Dataset 1_SMS"
   ]
  },
  {
   "cell_type": "markdown",
   "metadata": {},
   "source": [
    "As above for SMS"
   ]
  },
  {
   "cell_type": "code",
   "execution_count": 40,
   "metadata": {},
   "outputs": [],
   "source": [
    "Veri_Seti1_SMS_201701 = pd.read_csv('./Dataset 1_SMS/Veri_Seti1_SMS_201701.csv')"
   ]
  },
  {
   "cell_type": "code",
   "execution_count": 41,
   "metadata": {},
   "outputs": [
    {
     "data": {
      "text/html": [
       "<div>\n",
       "<style scoped>\n",
       "    .dataframe tbody tr th:only-of-type {\n",
       "        vertical-align: middle;\n",
       "    }\n",
       "\n",
       "    .dataframe tbody tr th {\n",
       "        vertical-align: top;\n",
       "    }\n",
       "\n",
       "    .dataframe thead th {\n",
       "        text-align: right;\n",
       "    }\n",
       "</style>\n",
       "<table border=\"1\" class=\"dataframe\">\n",
       "  <thead>\n",
       "    <tr style=\"text-align: right;\">\n",
       "      <th></th>\n",
       "      <th>TIMESTAMP</th>\n",
       "      <th>OUTGOING_SITE_ID</th>\n",
       "      <th>INCOMING_SITE_ID</th>\n",
       "      <th>NUMBER_OF_SMS</th>\n",
       "      <th>NUMBER_OF_REFUGEE_SMS</th>\n",
       "    </tr>\n",
       "  </thead>\n",
       "  <tbody>\n",
       "    <tr>\n",
       "      <th>0</th>\n",
       "      <td>01-01-2017 00</td>\n",
       "      <td>-99</td>\n",
       "      <td>9999</td>\n",
       "      <td>5</td>\n",
       "      <td>0</td>\n",
       "    </tr>\n",
       "    <tr>\n",
       "      <th>1</th>\n",
       "      <td>01-01-2017 00</td>\n",
       "      <td>-99</td>\n",
       "      <td>5072470</td>\n",
       "      <td>1</td>\n",
       "      <td>0</td>\n",
       "    </tr>\n",
       "    <tr>\n",
       "      <th>2</th>\n",
       "      <td>01-01-2017 00</td>\n",
       "      <td>-99</td>\n",
       "      <td>5111339</td>\n",
       "      <td>2</td>\n",
       "      <td>0</td>\n",
       "    </tr>\n",
       "    <tr>\n",
       "      <th>3</th>\n",
       "      <td>01-01-2017 00</td>\n",
       "      <td>-99</td>\n",
       "      <td>5189218</td>\n",
       "      <td>2</td>\n",
       "      <td>0</td>\n",
       "    </tr>\n",
       "    <tr>\n",
       "      <th>4</th>\n",
       "      <td>01-01-2017 00</td>\n",
       "      <td>5053289</td>\n",
       "      <td>9999</td>\n",
       "      <td>1</td>\n",
       "      <td>0</td>\n",
       "    </tr>\n",
       "  </tbody>\n",
       "</table>\n",
       "</div>"
      ],
      "text/plain": [
       "       TIMESTAMP  OUTGOING_SITE_ID  INCOMING_SITE_ID  NUMBER_OF_SMS  \\\n",
       "0  01-01-2017 00               -99              9999              5   \n",
       "1  01-01-2017 00               -99           5072470              1   \n",
       "2  01-01-2017 00               -99           5111339              2   \n",
       "3  01-01-2017 00               -99           5189218              2   \n",
       "4  01-01-2017 00           5053289              9999              1   \n",
       "\n",
       "   NUMBER_OF_REFUGEE_SMS  \n",
       "0                      0  \n",
       "1                      0  \n",
       "2                      0  \n",
       "3                      0  \n",
       "4                      0  "
      ]
     },
     "execution_count": 41,
     "metadata": {},
     "output_type": "execute_result"
    }
   ],
   "source": [
    "pd.DataFrame(Veri_Seti1_SMS_201701, index = [0,1,2,3,4])"
   ]
  },
  {
   "cell_type": "markdown",
   "metadata": {},
   "source": [
    "## Dataset 2_Voice"
   ]
  },
  {
   "cell_type": "markdown",
   "metadata": {},
   "source": [
    "Tracking callers by ID for a 2 week perios with site ID. Each contains a randomly sampled set of 3% of the refugee population and an equal number of non-refugees."
   ]
  },
  {
   "cell_type": "markdown",
   "metadata": {},
   "source": [
    "Caller prefix: 1: refugee, 2: non-refugee, 3: unknonwn"
   ]
  },
  {
   "cell_type": "markdown",
   "metadata": {},
   "source": [
    "### In"
   ]
  },
  {
   "cell_type": "markdown",
   "metadata": {},
   "source": [
    "Incoming calls"
   ]
  },
  {
   "cell_type": "code",
   "execution_count": 42,
   "metadata": {
    "collapsed": true
   },
   "outputs": [],
   "source": [
    "Dataset2_201701W_In = pd.read_csv('./Dataset 2_Voice/Dataset2_201701W_In.csv')"
   ]
  },
  {
   "cell_type": "code",
   "execution_count": 43,
   "metadata": {},
   "outputs": [
    {
     "data": {
      "text/html": [
       "<div>\n",
       "<style scoped>\n",
       "    .dataframe tbody tr th:only-of-type {\n",
       "        vertical-align: middle;\n",
       "    }\n",
       "\n",
       "    .dataframe tbody tr th {\n",
       "        vertical-align: top;\n",
       "    }\n",
       "\n",
       "    .dataframe thead th {\n",
       "        text-align: right;\n",
       "    }\n",
       "</style>\n",
       "<table border=\"1\" class=\"dataframe\">\n",
       "  <thead>\n",
       "    <tr style=\"text-align: right;\">\n",
       "      <th></th>\n",
       "      <th>CALLER_ID</th>\n",
       "      <th>TIMESTAMP</th>\n",
       "      <th>CALLEE_PREFIX</th>\n",
       "      <th>SITE_ID</th>\n",
       "      <th>CALL_TYPE</th>\n",
       "    </tr>\n",
       "  </thead>\n",
       "  <tbody>\n",
       "    <tr>\n",
       "      <th>0</th>\n",
       "      <td>1100140407</td>\n",
       "      <td>02-01-2017 16</td>\n",
       "      <td>2.0</td>\n",
       "      <td>5059421</td>\n",
       "      <td>2</td>\n",
       "    </tr>\n",
       "    <tr>\n",
       "      <th>1</th>\n",
       "      <td>1100140407</td>\n",
       "      <td>02-01-2017 16</td>\n",
       "      <td>2.0</td>\n",
       "      <td>5191433</td>\n",
       "      <td>2</td>\n",
       "    </tr>\n",
       "    <tr>\n",
       "      <th>2</th>\n",
       "      <td>1100140407</td>\n",
       "      <td>02-01-2017 18</td>\n",
       "      <td>2.0</td>\n",
       "      <td>5191433</td>\n",
       "      <td>2</td>\n",
       "    </tr>\n",
       "    <tr>\n",
       "      <th>3</th>\n",
       "      <td>1100140407</td>\n",
       "      <td>02-01-2017 19</td>\n",
       "      <td>2.0</td>\n",
       "      <td>5191433</td>\n",
       "      <td>2</td>\n",
       "    </tr>\n",
       "    <tr>\n",
       "      <th>4</th>\n",
       "      <td>1100140407</td>\n",
       "      <td>03-01-2017 14</td>\n",
       "      <td>2.0</td>\n",
       "      <td>5191433</td>\n",
       "      <td>2</td>\n",
       "    </tr>\n",
       "  </tbody>\n",
       "</table>\n",
       "</div>"
      ],
      "text/plain": [
       "    CALLER_ID      TIMESTAMP  CALLEE_PREFIX  SITE_ID  CALL_TYPE\n",
       "0  1100140407  02-01-2017 16            2.0  5059421          2\n",
       "1  1100140407  02-01-2017 16            2.0  5191433          2\n",
       "2  1100140407  02-01-2017 18            2.0  5191433          2\n",
       "3  1100140407  02-01-2017 19            2.0  5191433          2\n",
       "4  1100140407  03-01-2017 14            2.0  5191433          2"
      ]
     },
     "execution_count": 43,
     "metadata": {},
     "output_type": "execute_result"
    }
   ],
   "source": [
    "pd.DataFrame(Dataset2_201701W_In, index = [0,1,2,3,4])"
   ]
  },
  {
   "cell_type": "markdown",
   "metadata": {},
   "source": [
    "### Out"
   ]
  },
  {
   "cell_type": "markdown",
   "metadata": {},
   "source": [
    "Outgoing calls"
   ]
  },
  {
   "cell_type": "code",
   "execution_count": 44,
   "metadata": {
    "collapsed": true
   },
   "outputs": [],
   "source": [
    "Dataset2_201701W_Out = pd.read_csv('./Dataset 2_Voice/Dataset2_201701W_Out.csv')"
   ]
  },
  {
   "cell_type": "code",
   "execution_count": 45,
   "metadata": {},
   "outputs": [
    {
     "data": {
      "text/html": [
       "<div>\n",
       "<style scoped>\n",
       "    .dataframe tbody tr th:only-of-type {\n",
       "        vertical-align: middle;\n",
       "    }\n",
       "\n",
       "    .dataframe tbody tr th {\n",
       "        vertical-align: top;\n",
       "    }\n",
       "\n",
       "    .dataframe thead th {\n",
       "        text-align: right;\n",
       "    }\n",
       "</style>\n",
       "<table border=\"1\" class=\"dataframe\">\n",
       "  <thead>\n",
       "    <tr style=\"text-align: right;\">\n",
       "      <th></th>\n",
       "      <th>CALLER_ID</th>\n",
       "      <th>TIMESTAMP</th>\n",
       "      <th>CALLEE_PREFIX</th>\n",
       "      <th>SITE_ID</th>\n",
       "      <th>CALL_TYPE</th>\n",
       "    </tr>\n",
       "  </thead>\n",
       "  <tbody>\n",
       "    <tr>\n",
       "      <th>0</th>\n",
       "      <td>1100086965</td>\n",
       "      <td>01-01-2017 12</td>\n",
       "      <td>2</td>\n",
       "      <td>5095166</td>\n",
       "      <td>1</td>\n",
       "    </tr>\n",
       "    <tr>\n",
       "      <th>1</th>\n",
       "      <td>1100086965</td>\n",
       "      <td>01-01-2017 14</td>\n",
       "      <td>2</td>\n",
       "      <td>5095166</td>\n",
       "      <td>1</td>\n",
       "    </tr>\n",
       "    <tr>\n",
       "      <th>2</th>\n",
       "      <td>1100086965</td>\n",
       "      <td>01-01-2017 15</td>\n",
       "      <td>2</td>\n",
       "      <td>5095170</td>\n",
       "      <td>1</td>\n",
       "    </tr>\n",
       "    <tr>\n",
       "      <th>3</th>\n",
       "      <td>1100086965</td>\n",
       "      <td>01-01-2017 19</td>\n",
       "      <td>2</td>\n",
       "      <td>5095170</td>\n",
       "      <td>1</td>\n",
       "    </tr>\n",
       "    <tr>\n",
       "      <th>4</th>\n",
       "      <td>1100086965</td>\n",
       "      <td>02-01-2017 13</td>\n",
       "      <td>2</td>\n",
       "      <td>5188000</td>\n",
       "      <td>1</td>\n",
       "    </tr>\n",
       "  </tbody>\n",
       "</table>\n",
       "</div>"
      ],
      "text/plain": [
       "    CALLER_ID      TIMESTAMP  CALLEE_PREFIX  SITE_ID  CALL_TYPE\n",
       "0  1100086965  01-01-2017 12              2  5095166          1\n",
       "1  1100086965  01-01-2017 14              2  5095166          1\n",
       "2  1100086965  01-01-2017 15              2  5095170          1\n",
       "3  1100086965  01-01-2017 19              2  5095170          1\n",
       "4  1100086965  02-01-2017 13              2  5188000          1"
      ]
     },
     "execution_count": 45,
     "metadata": {},
     "output_type": "execute_result"
    }
   ],
   "source": [
    "pd.DataFrame(Dataset2_201701W_Out, index = [0,1,2,3,4])"
   ]
  },
  {
   "cell_type": "markdown",
   "metadata": {},
   "source": [
    "## Dataset 2_SMS"
   ]
  },
  {
   "cell_type": "markdown",
   "metadata": {},
   "source": [
    "As above for SMS"
   ]
  },
  {
   "cell_type": "markdown",
   "metadata": {},
   "source": [
    "### In"
   ]
  },
  {
   "cell_type": "code",
   "execution_count": 9,
   "metadata": {},
   "outputs": [],
   "source": [
    "Veri_Seti2_201701W_SMS_In = pd.read_csv('./Dataset 2_SMS/Veri_Seti2_201701W_SMS_In.csv')"
   ]
  },
  {
   "cell_type": "code",
   "execution_count": 10,
   "metadata": {},
   "outputs": [
    {
     "data": {
      "text/html": [
       "<div>\n",
       "<style scoped>\n",
       "    .dataframe tbody tr th:only-of-type {\n",
       "        vertical-align: middle;\n",
       "    }\n",
       "\n",
       "    .dataframe tbody tr th {\n",
       "        vertical-align: top;\n",
       "    }\n",
       "\n",
       "    .dataframe thead th {\n",
       "        text-align: right;\n",
       "    }\n",
       "</style>\n",
       "<table border=\"1\" class=\"dataframe\">\n",
       "  <thead>\n",
       "    <tr style=\"text-align: right;\">\n",
       "      <th></th>\n",
       "      <th>CALLER_ID</th>\n",
       "      <th>TIMESTAMP</th>\n",
       "      <th>CALLEE_PREFIX</th>\n",
       "      <th>SITE_ID</th>\n",
       "      <th>CALL_TYPE</th>\n",
       "    </tr>\n",
       "  </thead>\n",
       "  <tbody>\n",
       "    <tr>\n",
       "      <th>25</th>\n",
       "      <td>1101062028</td>\n",
       "      <td>07-01-2017 17</td>\n",
       "      <td>3.0</td>\n",
       "      <td>5174391</td>\n",
       "      <td>2</td>\n",
       "    </tr>\n",
       "    <tr>\n",
       "      <th>47</th>\n",
       "      <td>1101637954</td>\n",
       "      <td>07-01-2017 00</td>\n",
       "      <td>2.0</td>\n",
       "      <td>5123068</td>\n",
       "      <td>2</td>\n",
       "    </tr>\n",
       "    <tr>\n",
       "      <th>106</th>\n",
       "      <td>1102236073</td>\n",
       "      <td>06-01-2017 11</td>\n",
       "      <td>2.0</td>\n",
       "      <td>5090510</td>\n",
       "      <td>2</td>\n",
       "    </tr>\n",
       "    <tr>\n",
       "      <th>207</th>\n",
       "      <td>1102376406</td>\n",
       "      <td>12-01-2017 15</td>\n",
       "      <td>2.0</td>\n",
       "      <td>5122540</td>\n",
       "      <td>2</td>\n",
       "    </tr>\n",
       "    <tr>\n",
       "      <th>500</th>\n",
       "      <td>1104337964</td>\n",
       "      <td>15-01-2017 00</td>\n",
       "      <td>2.0</td>\n",
       "      <td>5184816</td>\n",
       "      <td>2</td>\n",
       "    </tr>\n",
       "  </tbody>\n",
       "</table>\n",
       "</div>"
      ],
      "text/plain": [
       "      CALLER_ID      TIMESTAMP  CALLEE_PREFIX  SITE_ID  CALL_TYPE\n",
       "25   1101062028  07-01-2017 17            3.0  5174391          2\n",
       "47   1101637954  07-01-2017 00            2.0  5123068          2\n",
       "106  1102236073  06-01-2017 11            2.0  5090510          2\n",
       "207  1102376406  12-01-2017 15            2.0  5122540          2\n",
       "500  1104337964  15-01-2017 00            2.0  5184816          2"
      ]
     },
     "execution_count": 10,
     "metadata": {},
     "output_type": "execute_result"
    }
   ],
   "source": [
    "pd.DataFrame(Veri_Seti2_201701W_SMS_In, index = [25,47,106,207,500])"
   ]
  },
  {
   "cell_type": "markdown",
   "metadata": {},
   "source": [
    "### Out"
   ]
  },
  {
   "cell_type": "code",
   "execution_count": 49,
   "metadata": {
    "collapsed": true
   },
   "outputs": [],
   "source": [
    "Veri_Seti2_201701W_SMS_Out = pd.read_csv('./Dataset 2_SMS New/Veri_Seti2_201701W_SMS_Out.csv')"
   ]
  },
  {
   "cell_type": "code",
   "execution_count": 50,
   "metadata": {},
   "outputs": [
    {
     "data": {
      "text/html": [
       "<div>\n",
       "<style scoped>\n",
       "    .dataframe tbody tr th:only-of-type {\n",
       "        vertical-align: middle;\n",
       "    }\n",
       "\n",
       "    .dataframe tbody tr th {\n",
       "        vertical-align: top;\n",
       "    }\n",
       "\n",
       "    .dataframe thead th {\n",
       "        text-align: right;\n",
       "    }\n",
       "</style>\n",
       "<table border=\"1\" class=\"dataframe\">\n",
       "  <thead>\n",
       "    <tr style=\"text-align: right;\">\n",
       "      <th></th>\n",
       "      <th>CALLER_ID</th>\n",
       "      <th>TIMESTAMP</th>\n",
       "      <th>CALLEE_PREFIX</th>\n",
       "      <th>SITE_ID</th>\n",
       "      <th>CALL_TYPE</th>\n",
       "    </tr>\n",
       "  </thead>\n",
       "  <tbody>\n",
       "    <tr>\n",
       "      <th>0</th>\n",
       "      <td>1100015914</td>\n",
       "      <td>02-01-2017 13</td>\n",
       "      <td>2.0</td>\n",
       "      <td>5070436</td>\n",
       "      <td>1</td>\n",
       "    </tr>\n",
       "    <tr>\n",
       "      <th>1</th>\n",
       "      <td>1100015914</td>\n",
       "      <td>03-01-2017 14</td>\n",
       "      <td>2.0</td>\n",
       "      <td>5168292</td>\n",
       "      <td>1</td>\n",
       "    </tr>\n",
       "    <tr>\n",
       "      <th>2</th>\n",
       "      <td>1100015914</td>\n",
       "      <td>03-01-2017 16</td>\n",
       "      <td>2.0</td>\n",
       "      <td>5070436</td>\n",
       "      <td>1</td>\n",
       "    </tr>\n",
       "    <tr>\n",
       "      <th>3</th>\n",
       "      <td>1100015914</td>\n",
       "      <td>09-01-2017 13</td>\n",
       "      <td>2.0</td>\n",
       "      <td>5070436</td>\n",
       "      <td>1</td>\n",
       "    </tr>\n",
       "    <tr>\n",
       "      <th>4</th>\n",
       "      <td>1100015914</td>\n",
       "      <td>11-01-2017 18</td>\n",
       "      <td>2.0</td>\n",
       "      <td>5057347</td>\n",
       "      <td>1</td>\n",
       "    </tr>\n",
       "  </tbody>\n",
       "</table>\n",
       "</div>"
      ],
      "text/plain": [
       "    CALLER_ID      TIMESTAMP  CALLEE_PREFIX  SITE_ID  CALL_TYPE\n",
       "0  1100015914  02-01-2017 13            2.0  5070436          1\n",
       "1  1100015914  03-01-2017 14            2.0  5168292          1\n",
       "2  1100015914  03-01-2017 16            2.0  5070436          1\n",
       "3  1100015914  09-01-2017 13            2.0  5070436          1\n",
       "4  1100015914  11-01-2017 18            2.0  5057347          1"
      ]
     },
     "execution_count": 50,
     "metadata": {},
     "output_type": "execute_result"
    }
   ],
   "source": [
    "pd.DataFrame(Veri_Seti2_201701W_SMS_Out, index = [0,1,2,3,4])"
   ]
  },
  {
   "cell_type": "markdown",
   "metadata": {},
   "source": [
    "## Dataset 3"
   ]
  },
  {
   "cell_type": "markdown",
   "metadata": {},
   "source": [
    "Tracking callers by ID each month with district and city ID. A random sample of 50,000 refugees and non-refugees sampled over the whole period."
   ]
  },
  {
   "cell_type": "markdown",
   "metadata": {},
   "source": [
    "### In"
   ]
  },
  {
   "cell_type": "markdown",
   "metadata": {},
   "source": [
    "Incoming calls"
   ]
  },
  {
   "cell_type": "code",
   "execution_count": 51,
   "metadata": {
    "collapsed": true
   },
   "outputs": [],
   "source": [
    "Veri_Seti3_201701_In = pd.read_csv('./Dataset 3/Veri_Seti3_201701_In.csv')"
   ]
  },
  {
   "cell_type": "code",
   "execution_count": 54,
   "metadata": {},
   "outputs": [
    {
     "data": {
      "text/html": [
       "<div>\n",
       "<style scoped>\n",
       "    .dataframe tbody tr th:only-of-type {\n",
       "        vertical-align: middle;\n",
       "    }\n",
       "\n",
       "    .dataframe tbody tr th {\n",
       "        vertical-align: top;\n",
       "    }\n",
       "\n",
       "    .dataframe thead th {\n",
       "        text-align: right;\n",
       "    }\n",
       "</style>\n",
       "<table border=\"1\" class=\"dataframe\">\n",
       "  <thead>\n",
       "    <tr style=\"text-align: right;\">\n",
       "      <th></th>\n",
       "      <th>CALLER_ID</th>\n",
       "      <th>TIMESTAMP</th>\n",
       "      <th>ID</th>\n",
       "      <th>CITY_ID</th>\n",
       "    </tr>\n",
       "  </thead>\n",
       "  <tbody>\n",
       "    <tr>\n",
       "      <th>0</th>\n",
       "      <td>1100144895</td>\n",
       "      <td>02-01-2017 12:52</td>\n",
       "      <td>568</td>\n",
       "      <td>7</td>\n",
       "    </tr>\n",
       "    <tr>\n",
       "      <th>1</th>\n",
       "      <td>1100144895</td>\n",
       "      <td>02-01-2017 20:40</td>\n",
       "      <td>568</td>\n",
       "      <td>7</td>\n",
       "    </tr>\n",
       "    <tr>\n",
       "      <th>2</th>\n",
       "      <td>1100144895</td>\n",
       "      <td>02-01-2017 21:41</td>\n",
       "      <td>568</td>\n",
       "      <td>7</td>\n",
       "    </tr>\n",
       "    <tr>\n",
       "      <th>3</th>\n",
       "      <td>1100144895</td>\n",
       "      <td>03-01-2017 14:57</td>\n",
       "      <td>828</td>\n",
       "      <td>7</td>\n",
       "    </tr>\n",
       "    <tr>\n",
       "      <th>4</th>\n",
       "      <td>1100144895</td>\n",
       "      <td>05-01-2017 10:01</td>\n",
       "      <td>568</td>\n",
       "      <td>7</td>\n",
       "    </tr>\n",
       "  </tbody>\n",
       "</table>\n",
       "</div>"
      ],
      "text/plain": [
       "    CALLER_ID         TIMESTAMP   ID  CITY_ID\n",
       "0  1100144895  02-01-2017 12:52  568        7\n",
       "1  1100144895  02-01-2017 20:40  568        7\n",
       "2  1100144895  02-01-2017 21:41  568        7\n",
       "3  1100144895  03-01-2017 14:57  828        7\n",
       "4  1100144895  05-01-2017 10:01  568        7"
      ]
     },
     "execution_count": 54,
     "metadata": {},
     "output_type": "execute_result"
    }
   ],
   "source": [
    "pd.DataFrame(Veri_Seti3_201701_In, index = [0,1,2,3,4])"
   ]
  },
  {
   "cell_type": "markdown",
   "metadata": {},
   "source": [
    "### Out"
   ]
  },
  {
   "cell_type": "markdown",
   "metadata": {},
   "source": [
    "Outgoing calls"
   ]
  },
  {
   "cell_type": "code",
   "execution_count": 56,
   "metadata": {
    "collapsed": true
   },
   "outputs": [],
   "source": [
    "Veri_Seti3_201701_Out = pd.read_csv('./Dataset 3/Veri_Seti3_201701_Out.csv')"
   ]
  },
  {
   "cell_type": "code",
   "execution_count": 57,
   "metadata": {},
   "outputs": [
    {
     "data": {
      "text/html": [
       "<div>\n",
       "<style scoped>\n",
       "    .dataframe tbody tr th:only-of-type {\n",
       "        vertical-align: middle;\n",
       "    }\n",
       "\n",
       "    .dataframe tbody tr th {\n",
       "        vertical-align: top;\n",
       "    }\n",
       "\n",
       "    .dataframe thead th {\n",
       "        text-align: right;\n",
       "    }\n",
       "</style>\n",
       "<table border=\"1\" class=\"dataframe\">\n",
       "  <thead>\n",
       "    <tr style=\"text-align: right;\">\n",
       "      <th></th>\n",
       "      <th>CALLER_ID</th>\n",
       "      <th>TIMESTAMP</th>\n",
       "      <th>ID</th>\n",
       "      <th>CITY_ID</th>\n",
       "    </tr>\n",
       "  </thead>\n",
       "  <tbody>\n",
       "    <tr>\n",
       "      <th>0</th>\n",
       "      <td>1100142093</td>\n",
       "      <td>18-01-2017 20:20</td>\n",
       "      <td>167</td>\n",
       "      <td>42</td>\n",
       "    </tr>\n",
       "    <tr>\n",
       "      <th>1</th>\n",
       "      <td>1100144895</td>\n",
       "      <td>01-01-2017 17:07</td>\n",
       "      <td>828</td>\n",
       "      <td>7</td>\n",
       "    </tr>\n",
       "    <tr>\n",
       "      <th>2</th>\n",
       "      <td>1100144895</td>\n",
       "      <td>01-01-2017 17:09</td>\n",
       "      <td>828</td>\n",
       "      <td>7</td>\n",
       "    </tr>\n",
       "    <tr>\n",
       "      <th>3</th>\n",
       "      <td>1100144895</td>\n",
       "      <td>02-01-2017 10:01</td>\n",
       "      <td>568</td>\n",
       "      <td>7</td>\n",
       "    </tr>\n",
       "    <tr>\n",
       "      <th>4</th>\n",
       "      <td>1100144895</td>\n",
       "      <td>02-01-2017 12:57</td>\n",
       "      <td>568</td>\n",
       "      <td>7</td>\n",
       "    </tr>\n",
       "  </tbody>\n",
       "</table>\n",
       "</div>"
      ],
      "text/plain": [
       "    CALLER_ID         TIMESTAMP   ID  CITY_ID\n",
       "0  1100142093  18-01-2017 20:20  167       42\n",
       "1  1100144895  01-01-2017 17:07  828        7\n",
       "2  1100144895  01-01-2017 17:09  828        7\n",
       "3  1100144895  02-01-2017 10:01  568        7\n",
       "4  1100144895  02-01-2017 12:57  568        7"
      ]
     },
     "execution_count": 57,
     "metadata": {},
     "output_type": "execute_result"
    }
   ],
   "source": [
    "pd.DataFrame(Veri_Seti3_201701_Out, index = [0,1,2,3,4])"
   ]
  }
 ],
 "metadata": {
  "kernelspec": {
   "display_name": "Python 2",
   "language": "python",
   "name": "python2"
  },
  "language_info": {
   "codemirror_mode": {
    "name": "ipython",
    "version": 2
   },
   "file_extension": ".py",
   "mimetype": "text/x-python",
   "name": "python",
   "nbconvert_exporter": "python",
   "pygments_lexer": "ipython2",
   "version": "2.7.14"
  }
 },
 "nbformat": 4,
 "nbformat_minor": 2
}
