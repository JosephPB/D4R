{
 "cells": [
  {
   "cell_type": "code",
   "execution_count": 17,
   "metadata": {
    "collapsed": true
   },
   "outputs": [],
   "source": [
    "import numpy as np\n",
    "import pandas as pd\n",
    "import matplotlib.pyplot as plt\n",
    "import pickle\n",
    "import sqlite3"
   ]
  },
  {
   "cell_type": "code",
   "execution_count": 18,
   "metadata": {
    "collapsed": true
   },
   "outputs": [],
   "source": [
    "Veri_Seti3_201701_In = pd.read_csv('./Dataset 3/Dataset 3_201701_In.csv')"
   ]
  },
  {
   "cell_type": "code",
   "execution_count": 19,
   "metadata": {},
   "outputs": [
    {
     "data": {
      "text/html": [
       "<div>\n",
       "<style scoped>\n",
       "    .dataframe tbody tr th:only-of-type {\n",
       "        vertical-align: middle;\n",
       "    }\n",
       "\n",
       "    .dataframe tbody tr th {\n",
       "        vertical-align: top;\n",
       "    }\n",
       "\n",
       "    .dataframe thead th {\n",
       "        text-align: right;\n",
       "    }\n",
       "</style>\n",
       "<table border=\"1\" class=\"dataframe\">\n",
       "  <thead>\n",
       "    <tr style=\"text-align: right;\">\n",
       "      <th></th>\n",
       "      <th>CALLER_ID</th>\n",
       "      <th>TIMESTAMP</th>\n",
       "      <th>ID</th>\n",
       "      <th>CITY_ID</th>\n",
       "    </tr>\n",
       "  </thead>\n",
       "  <tbody>\n",
       "    <tr>\n",
       "      <th>0</th>\n",
       "      <td>1100144895</td>\n",
       "      <td>02-01-2017 12:52</td>\n",
       "      <td>568</td>\n",
       "      <td>7</td>\n",
       "    </tr>\n",
       "    <tr>\n",
       "      <th>1</th>\n",
       "      <td>1100144895</td>\n",
       "      <td>02-01-2017 20:40</td>\n",
       "      <td>568</td>\n",
       "      <td>7</td>\n",
       "    </tr>\n",
       "    <tr>\n",
       "      <th>2</th>\n",
       "      <td>1100144895</td>\n",
       "      <td>02-01-2017 21:41</td>\n",
       "      <td>568</td>\n",
       "      <td>7</td>\n",
       "    </tr>\n",
       "    <tr>\n",
       "      <th>3</th>\n",
       "      <td>1100144895</td>\n",
       "      <td>03-01-2017 14:57</td>\n",
       "      <td>828</td>\n",
       "      <td>7</td>\n",
       "    </tr>\n",
       "    <tr>\n",
       "      <th>4</th>\n",
       "      <td>1100144895</td>\n",
       "      <td>05-01-2017 10:01</td>\n",
       "      <td>568</td>\n",
       "      <td>7</td>\n",
       "    </tr>\n",
       "  </tbody>\n",
       "</table>\n",
       "</div>"
      ],
      "text/plain": [
       "    CALLER_ID         TIMESTAMP   ID  CITY_ID\n",
       "0  1100144895  02-01-2017 12:52  568        7\n",
       "1  1100144895  02-01-2017 20:40  568        7\n",
       "2  1100144895  02-01-2017 21:41  568        7\n",
       "3  1100144895  03-01-2017 14:57  828        7\n",
       "4  1100144895  05-01-2017 10:01  568        7"
      ]
     },
     "execution_count": 19,
     "metadata": {},
     "output_type": "execute_result"
    }
   ],
   "source": [
    "dataset = pd.DataFrame(Veri_Seti3_201701_In)\n",
    "dataset.head()"
   ]
  },
  {
   "cell_type": "markdown",
   "metadata": {},
   "source": [
    "## Extract information from January dataset"
   ]
  },
  {
   "cell_type": "code",
   "execution_count": 20,
   "metadata": {
    "collapsed": true
   },
   "outputs": [
    {
     "name": "stdout",
     "output_type": "stream",
     "text": [
      "there are 998625 calls recorded in this dataset\n"
     ]
    }
   ],
   "source": [
    "print ('there are {} calls recorded in this dataset'.format(len(dataset)))"
   ]
  },
  {
   "cell_type": "markdown",
   "metadata": {},
   "source": [
    "### Extract timestamp"
   ]
  },
  {
   "cell_type": "code",
   "execution_count": 23,
   "metadata": {
    "collapsed": true
   },
   "outputs": [
    {
     "name": "stdout",
     "output_type": "stream",
     "text": [
      "CPU times: user 17.5 ms, sys: 41 µs, total: 17.5 ms\n",
      "Wall time: 7.26 ms\n"
     ]
    }
   ],
   "source": [
    "%%time\n",
    "dataset['TIMESTAMP'] = pd.to_datetime(dataset['TIMESTAMP'], format = \"%d-%m-%Y %H:%M\")"
   ]
  },
  {
   "cell_type": "markdown",
   "metadata": {},
   "source": [
    "### Extract called ID"
   ]
  },
  {
   "cell_type": "code",
   "execution_count": 30,
   "metadata": {
    "collapsed": true
   },
   "outputs": [],
   "source": [
    "dataset['CALLER_ID'] = dataset['CALLER_ID'].astype(str)"
   ]
  },
  {
   "cell_type": "markdown",
   "metadata": {},
   "source": [
    "### Extract prefix"
   ]
  },
  {
   "cell_type": "code",
   "execution_count": 47,
   "metadata": {},
   "outputs": [
    {
     "data": {
      "text/html": [
       "<div>\n",
       "<style scoped>\n",
       "    .dataframe tbody tr th:only-of-type {\n",
       "        vertical-align: middle;\n",
       "    }\n",
       "\n",
       "    .dataframe tbody tr th {\n",
       "        vertical-align: top;\n",
       "    }\n",
       "\n",
       "    .dataframe thead th {\n",
       "        text-align: right;\n",
       "    }\n",
       "</style>\n",
       "<table border=\"1\" class=\"dataframe\">\n",
       "  <thead>\n",
       "    <tr style=\"text-align: right;\">\n",
       "      <th></th>\n",
       "      <th>CALLER_ID</th>\n",
       "      <th>TIMESTAMP</th>\n",
       "      <th>ID</th>\n",
       "      <th>CITY_ID</th>\n",
       "    </tr>\n",
       "  </thead>\n",
       "  <tbody>\n",
       "    <tr>\n",
       "      <th>0</th>\n",
       "      <td>1100144895</td>\n",
       "      <td>2017-01-02 12:52:00</td>\n",
       "      <td>568</td>\n",
       "      <td>7</td>\n",
       "    </tr>\n",
       "    <tr>\n",
       "      <th>1</th>\n",
       "      <td>1100144895</td>\n",
       "      <td>2017-01-02 20:40:00</td>\n",
       "      <td>568</td>\n",
       "      <td>7</td>\n",
       "    </tr>\n",
       "    <tr>\n",
       "      <th>2</th>\n",
       "      <td>1100144895</td>\n",
       "      <td>2017-01-02 21:41:00</td>\n",
       "      <td>568</td>\n",
       "      <td>7</td>\n",
       "    </tr>\n",
       "    <tr>\n",
       "      <th>3</th>\n",
       "      <td>1100144895</td>\n",
       "      <td>2017-01-03 14:57:00</td>\n",
       "      <td>828</td>\n",
       "      <td>7</td>\n",
       "    </tr>\n",
       "    <tr>\n",
       "      <th>4</th>\n",
       "      <td>1100144895</td>\n",
       "      <td>2017-01-05 10:01:00</td>\n",
       "      <td>568</td>\n",
       "      <td>7</td>\n",
       "    </tr>\n",
       "  </tbody>\n",
       "</table>\n",
       "</div>"
      ],
      "text/plain": [
       "    CALLER_ID           TIMESTAMP   ID  CITY_ID\n",
       "0  1100144895 2017-01-02 12:52:00  568        7\n",
       "1  1100144895 2017-01-02 20:40:00  568        7\n",
       "2  1100144895 2017-01-02 21:41:00  568        7\n",
       "3  1100144895 2017-01-03 14:57:00  828        7\n",
       "4  1100144895 2017-01-05 10:01:00  568        7"
      ]
     },
     "execution_count": 47,
     "metadata": {},
     "output_type": "execute_result"
    }
   ],
   "source": [
    "#get dataset with only refugee calls\n",
    "refugee_calls = dataset[dataset['CALLER_ID'].str.startswith('1')]\n",
    "refugee_calls.head()"
   ]
  },
  {
   "cell_type": "code",
   "execution_count": 50,
   "metadata": {},
   "outputs": [
    {
     "data": {
      "text/html": [
       "<div>\n",
       "<style scoped>\n",
       "    .dataframe tbody tr th:only-of-type {\n",
       "        vertical-align: middle;\n",
       "    }\n",
       "\n",
       "    .dataframe tbody tr th {\n",
       "        vertical-align: top;\n",
       "    }\n",
       "\n",
       "    .dataframe thead th {\n",
       "        text-align: right;\n",
       "    }\n",
       "</style>\n",
       "<table border=\"1\" class=\"dataframe\">\n",
       "  <thead>\n",
       "    <tr style=\"text-align: right;\">\n",
       "      <th></th>\n",
       "      <th>CALLER_ID</th>\n",
       "      <th>TIMESTAMP</th>\n",
       "      <th>ID</th>\n",
       "      <th>CITY_ID</th>\n",
       "    </tr>\n",
       "  </thead>\n",
       "  <tbody>\n",
       "    <tr>\n",
       "      <th>239897</th>\n",
       "      <td>2100034000</td>\n",
       "      <td>2017-01-01 00:30:00</td>\n",
       "      <td>949</td>\n",
       "      <td>35</td>\n",
       "    </tr>\n",
       "    <tr>\n",
       "      <th>239898</th>\n",
       "      <td>2100034000</td>\n",
       "      <td>2017-01-01 00:55:00</td>\n",
       "      <td>949</td>\n",
       "      <td>35</td>\n",
       "    </tr>\n",
       "    <tr>\n",
       "      <th>239899</th>\n",
       "      <td>2100034000</td>\n",
       "      <td>2017-01-01 00:58:00</td>\n",
       "      <td>949</td>\n",
       "      <td>35</td>\n",
       "    </tr>\n",
       "    <tr>\n",
       "      <th>239900</th>\n",
       "      <td>2100034000</td>\n",
       "      <td>2017-01-01 01:07:00</td>\n",
       "      <td>949</td>\n",
       "      <td>35</td>\n",
       "    </tr>\n",
       "    <tr>\n",
       "      <th>239901</th>\n",
       "      <td>2100034000</td>\n",
       "      <td>2017-01-01 01:26:00</td>\n",
       "      <td>949</td>\n",
       "      <td>35</td>\n",
       "    </tr>\n",
       "  </tbody>\n",
       "</table>\n",
       "</div>"
      ],
      "text/plain": [
       "         CALLER_ID           TIMESTAMP   ID  CITY_ID\n",
       "239897  2100034000 2017-01-01 00:30:00  949       35\n",
       "239898  2100034000 2017-01-01 00:55:00  949       35\n",
       "239899  2100034000 2017-01-01 00:58:00  949       35\n",
       "239900  2100034000 2017-01-01 01:07:00  949       35\n",
       "239901  2100034000 2017-01-01 01:26:00  949       35"
      ]
     },
     "execution_count": 50,
     "metadata": {},
     "output_type": "execute_result"
    }
   ],
   "source": [
    "#get dataset with only nonrefugee calls\n",
    "nonrefugee_calls = dataset[dataset['CALLER_ID'].str.startswith('2')]\n",
    "nonrefugee_calls.head()"
   ]
  },
  {
   "cell_type": "code",
   "execution_count": 41,
   "metadata": {},
   "outputs": [
    {
     "data": {
      "text/plain": [
       "array(['1100144895', '1100239022', '1100256098', ..., '1999665531',\n",
       "       '1999760991', '1999796150'], dtype=object)"
      ]
     },
     "execution_count": 41,
     "metadata": {},
     "output_type": "execute_result"
    }
   ],
   "source": [
    "refugees_ids = refugee_calls.CALLER_ID.unique()"
   ]
  },
  {
   "cell_type": "code",
   "execution_count": 42,
   "metadata": {
    "collapsed": true
   },
   "outputs": [
    {
     "name": "stdout",
     "output_type": "stream",
     "text": [
      "there are 239897 refugee calls in this dataset\n",
      "there are 5525 different refugees in this dataset\n"
     ]
    }
   ],
   "source": [
    "print ('there are {} refugee calls in this dataset'.format(len(refugee_calls)))\n",
    "print ('there are {} different refugees in this dataset'.format(len(refugees_ids)))"
   ]
  },
  {
   "cell_type": "markdown",
   "metadata": {},
   "source": [
    "## Analyse data"
   ]
  },
  {
   "cell_type": "code",
   "execution_count": 133,
   "metadata": {},
   "outputs": [
    {
     "data": {
      "text/html": [
       "<div>\n",
       "<style scoped>\n",
       "    .dataframe tbody tr th:only-of-type {\n",
       "        vertical-align: middle;\n",
       "    }\n",
       "\n",
       "    .dataframe tbody tr th {\n",
       "        vertical-align: top;\n",
       "    }\n",
       "\n",
       "    .dataframe thead th {\n",
       "        text-align: right;\n",
       "    }\n",
       "</style>\n",
       "<table border=\"1\" class=\"dataframe\">\n",
       "  <thead>\n",
       "    <tr style=\"text-align: right;\">\n",
       "      <th></th>\n",
       "      <th></th>\n",
       "      <th>CALLER_ID</th>\n",
       "      <th>TIMESTAMP</th>\n",
       "      <th>ID</th>\n",
       "      <th>CITY_ID</th>\n",
       "    </tr>\n",
       "    <tr>\n",
       "      <th>CALLER_ID</th>\n",
       "      <th>CITY_ID</th>\n",
       "      <th></th>\n",
       "      <th></th>\n",
       "      <th></th>\n",
       "      <th></th>\n",
       "    </tr>\n",
       "  </thead>\n",
       "  <tbody>\n",
       "    <tr>\n",
       "      <th rowspan=\"9\" valign=\"top\">1100144895</th>\n",
       "      <th>7</th>\n",
       "      <td>1100144895</td>\n",
       "      <td>2017-01-02 20:40:00</td>\n",
       "      <td>568</td>\n",
       "      <td>7</td>\n",
       "    </tr>\n",
       "    <tr>\n",
       "      <th>7</th>\n",
       "      <td>1100144895</td>\n",
       "      <td>2017-01-02 21:41:00</td>\n",
       "      <td>568</td>\n",
       "      <td>7</td>\n",
       "    </tr>\n",
       "    <tr>\n",
       "      <th>7</th>\n",
       "      <td>1100144895</td>\n",
       "      <td>2017-01-06 21:38:00</td>\n",
       "      <td>568</td>\n",
       "      <td>7</td>\n",
       "    </tr>\n",
       "    <tr>\n",
       "      <th>7</th>\n",
       "      <td>1100144895</td>\n",
       "      <td>2017-01-06 21:44:00</td>\n",
       "      <td>568</td>\n",
       "      <td>7</td>\n",
       "    </tr>\n",
       "    <tr>\n",
       "      <th>7</th>\n",
       "      <td>1100144895</td>\n",
       "      <td>2017-01-06 21:58:00</td>\n",
       "      <td>568</td>\n",
       "      <td>7</td>\n",
       "    </tr>\n",
       "    <tr>\n",
       "      <th>7</th>\n",
       "      <td>1100144895</td>\n",
       "      <td>2017-01-08 22:31:00</td>\n",
       "      <td>568</td>\n",
       "      <td>7</td>\n",
       "    </tr>\n",
       "    <tr>\n",
       "      <th>7</th>\n",
       "      <td>1100144895</td>\n",
       "      <td>2017-01-11 21:02:00</td>\n",
       "      <td>568</td>\n",
       "      <td>7</td>\n",
       "    </tr>\n",
       "    <tr>\n",
       "      <th>7</th>\n",
       "      <td>1100144895</td>\n",
       "      <td>2017-01-11 22:26:00</td>\n",
       "      <td>568</td>\n",
       "      <td>7</td>\n",
       "    </tr>\n",
       "    <tr>\n",
       "      <th>7</th>\n",
       "      <td>1100144895</td>\n",
       "      <td>2017-01-13 21:04:00</td>\n",
       "      <td>568</td>\n",
       "      <td>7</td>\n",
       "    </tr>\n",
       "    <tr>\n",
       "      <th rowspan=\"21\" valign=\"top\">1100239022</th>\n",
       "      <th>6</th>\n",
       "      <td>1100239022</td>\n",
       "      <td>2017-01-05 18:29:00</td>\n",
       "      <td>528</td>\n",
       "      <td>6</td>\n",
       "    </tr>\n",
       "    <tr>\n",
       "      <th>6</th>\n",
       "      <td>1100239022</td>\n",
       "      <td>2017-01-05 18:58:00</td>\n",
       "      <td>528</td>\n",
       "      <td>6</td>\n",
       "    </tr>\n",
       "    <tr>\n",
       "      <th>6</th>\n",
       "      <td>1100239022</td>\n",
       "      <td>2017-01-05 19:34:00</td>\n",
       "      <td>689</td>\n",
       "      <td>6</td>\n",
       "    </tr>\n",
       "    <tr>\n",
       "      <th>6</th>\n",
       "      <td>1100239022</td>\n",
       "      <td>2017-01-05 19:56:00</td>\n",
       "      <td>689</td>\n",
       "      <td>6</td>\n",
       "    </tr>\n",
       "    <tr>\n",
       "      <th>6</th>\n",
       "      <td>1100239022</td>\n",
       "      <td>2017-01-06 18:43:00</td>\n",
       "      <td>528</td>\n",
       "      <td>6</td>\n",
       "    </tr>\n",
       "    <tr>\n",
       "      <th>6</th>\n",
       "      <td>1100239022</td>\n",
       "      <td>2017-01-06 18:44:00</td>\n",
       "      <td>528</td>\n",
       "      <td>6</td>\n",
       "    </tr>\n",
       "    <tr>\n",
       "      <th>6</th>\n",
       "      <td>1100239022</td>\n",
       "      <td>2017-01-06 19:09:00</td>\n",
       "      <td>528</td>\n",
       "      <td>6</td>\n",
       "    </tr>\n",
       "    <tr>\n",
       "      <th>6</th>\n",
       "      <td>1100239022</td>\n",
       "      <td>2017-01-06 20:02:00</td>\n",
       "      <td>528</td>\n",
       "      <td>6</td>\n",
       "    </tr>\n",
       "    <tr>\n",
       "      <th>6</th>\n",
       "      <td>1100239022</td>\n",
       "      <td>2017-01-07 19:23:00</td>\n",
       "      <td>528</td>\n",
       "      <td>6</td>\n",
       "    </tr>\n",
       "    <tr>\n",
       "      <th>6</th>\n",
       "      <td>1100239022</td>\n",
       "      <td>2017-01-07 20:25:00</td>\n",
       "      <td>528</td>\n",
       "      <td>6</td>\n",
       "    </tr>\n",
       "    <tr>\n",
       "      <th>6</th>\n",
       "      <td>1100239022</td>\n",
       "      <td>2017-01-08 19:21:00</td>\n",
       "      <td>528</td>\n",
       "      <td>6</td>\n",
       "    </tr>\n",
       "    <tr>\n",
       "      <th>6</th>\n",
       "      <td>1100239022</td>\n",
       "      <td>2017-01-09 19:57:00</td>\n",
       "      <td>528</td>\n",
       "      <td>6</td>\n",
       "    </tr>\n",
       "    <tr>\n",
       "      <th>6</th>\n",
       "      <td>1100239022</td>\n",
       "      <td>2017-01-09 20:28:00</td>\n",
       "      <td>528</td>\n",
       "      <td>6</td>\n",
       "    </tr>\n",
       "    <tr>\n",
       "      <th>6</th>\n",
       "      <td>1100239022</td>\n",
       "      <td>2017-01-11 18:37:00</td>\n",
       "      <td>528</td>\n",
       "      <td>6</td>\n",
       "    </tr>\n",
       "    <tr>\n",
       "      <th>6</th>\n",
       "      <td>1100239022</td>\n",
       "      <td>2017-01-11 19:33:00</td>\n",
       "      <td>528</td>\n",
       "      <td>6</td>\n",
       "    </tr>\n",
       "    <tr>\n",
       "      <th>6</th>\n",
       "      <td>1100239022</td>\n",
       "      <td>2017-01-11 19:34:00</td>\n",
       "      <td>528</td>\n",
       "      <td>6</td>\n",
       "    </tr>\n",
       "    <tr>\n",
       "      <th>6</th>\n",
       "      <td>1100239022</td>\n",
       "      <td>2017-01-12 18:35:00</td>\n",
       "      <td>528</td>\n",
       "      <td>6</td>\n",
       "    </tr>\n",
       "    <tr>\n",
       "      <th>6</th>\n",
       "      <td>1100239022</td>\n",
       "      <td>2017-01-12 19:19:00</td>\n",
       "      <td>528</td>\n",
       "      <td>6</td>\n",
       "    </tr>\n",
       "    <tr>\n",
       "      <th>6</th>\n",
       "      <td>1100239022</td>\n",
       "      <td>2017-01-12 20:43:00</td>\n",
       "      <td>528</td>\n",
       "      <td>6</td>\n",
       "    </tr>\n",
       "    <tr>\n",
       "      <th>6</th>\n",
       "      <td>1100239022</td>\n",
       "      <td>2017-01-16 18:50:00</td>\n",
       "      <td>528</td>\n",
       "      <td>6</td>\n",
       "    </tr>\n",
       "    <tr>\n",
       "      <th>6</th>\n",
       "      <td>1100239022</td>\n",
       "      <td>2017-01-16 19:31:00</td>\n",
       "      <td>528</td>\n",
       "      <td>6</td>\n",
       "    </tr>\n",
       "    <tr>\n",
       "      <th>...</th>\n",
       "      <th>...</th>\n",
       "      <td>...</td>\n",
       "      <td>...</td>\n",
       "      <td>...</td>\n",
       "      <td>...</td>\n",
       "    </tr>\n",
       "    <tr>\n",
       "      <th rowspan=\"6\" valign=\"top\">1999665531</th>\n",
       "      <th>34</th>\n",
       "      <td>1999665531</td>\n",
       "      <td>2017-01-12 19:13:00</td>\n",
       "      <td>386</td>\n",
       "      <td>34</td>\n",
       "    </tr>\n",
       "    <tr>\n",
       "      <th>34</th>\n",
       "      <td>1999665531</td>\n",
       "      <td>2017-01-12 19:33:00</td>\n",
       "      <td>386</td>\n",
       "      <td>34</td>\n",
       "    </tr>\n",
       "    <tr>\n",
       "      <th>34</th>\n",
       "      <td>1999665531</td>\n",
       "      <td>2017-01-12 19:38:00</td>\n",
       "      <td>386</td>\n",
       "      <td>34</td>\n",
       "    </tr>\n",
       "    <tr>\n",
       "      <th>34</th>\n",
       "      <td>1999665531</td>\n",
       "      <td>2017-01-14 19:30:00</td>\n",
       "      <td>386</td>\n",
       "      <td>34</td>\n",
       "    </tr>\n",
       "    <tr>\n",
       "      <th>34</th>\n",
       "      <td>1999665531</td>\n",
       "      <td>2017-01-15 21:56:00</td>\n",
       "      <td>386</td>\n",
       "      <td>34</td>\n",
       "    </tr>\n",
       "    <tr>\n",
       "      <th>34</th>\n",
       "      <td>1999665531</td>\n",
       "      <td>2017-01-16 19:10:00</td>\n",
       "      <td>386</td>\n",
       "      <td>34</td>\n",
       "    </tr>\n",
       "    <tr>\n",
       "      <th rowspan=\"24\" valign=\"top\">1999760991</th>\n",
       "      <th>34</th>\n",
       "      <td>1999760991</td>\n",
       "      <td>2017-01-01 18:23:00</td>\n",
       "      <td>401</td>\n",
       "      <td>34</td>\n",
       "    </tr>\n",
       "    <tr>\n",
       "      <th>34</th>\n",
       "      <td>1999760991</td>\n",
       "      <td>2017-01-02 18:02:00</td>\n",
       "      <td>537</td>\n",
       "      <td>34</td>\n",
       "    </tr>\n",
       "    <tr>\n",
       "      <th>34</th>\n",
       "      <td>1999760991</td>\n",
       "      <td>2017-01-02 18:08:00</td>\n",
       "      <td>537</td>\n",
       "      <td>34</td>\n",
       "    </tr>\n",
       "    <tr>\n",
       "      <th>34</th>\n",
       "      <td>1999760991</td>\n",
       "      <td>2017-01-02 18:22:00</td>\n",
       "      <td>537</td>\n",
       "      <td>34</td>\n",
       "    </tr>\n",
       "    <tr>\n",
       "      <th>34</th>\n",
       "      <td>1999760991</td>\n",
       "      <td>2017-01-02 18:30:00</td>\n",
       "      <td>537</td>\n",
       "      <td>34</td>\n",
       "    </tr>\n",
       "    <tr>\n",
       "      <th>34</th>\n",
       "      <td>1999760991</td>\n",
       "      <td>2017-01-02 19:42:00</td>\n",
       "      <td>537</td>\n",
       "      <td>34</td>\n",
       "    </tr>\n",
       "    <tr>\n",
       "      <th>34</th>\n",
       "      <td>1999760991</td>\n",
       "      <td>2017-01-02 20:43:00</td>\n",
       "      <td>537</td>\n",
       "      <td>34</td>\n",
       "    </tr>\n",
       "    <tr>\n",
       "      <th>34</th>\n",
       "      <td>1999760991</td>\n",
       "      <td>2017-01-03 19:42:00</td>\n",
       "      <td>537</td>\n",
       "      <td>34</td>\n",
       "    </tr>\n",
       "    <tr>\n",
       "      <th>34</th>\n",
       "      <td>1999760991</td>\n",
       "      <td>2017-01-05 18:46:00</td>\n",
       "      <td>537</td>\n",
       "      <td>34</td>\n",
       "    </tr>\n",
       "    <tr>\n",
       "      <th>34</th>\n",
       "      <td>1999760991</td>\n",
       "      <td>2017-01-05 23:05:00</td>\n",
       "      <td>401</td>\n",
       "      <td>34</td>\n",
       "    </tr>\n",
       "    <tr>\n",
       "      <th>34</th>\n",
       "      <td>1999760991</td>\n",
       "      <td>2017-01-06 23:23:00</td>\n",
       "      <td>401</td>\n",
       "      <td>34</td>\n",
       "    </tr>\n",
       "    <tr>\n",
       "      <th>34</th>\n",
       "      <td>1999760991</td>\n",
       "      <td>2017-01-06 23:30:00</td>\n",
       "      <td>401</td>\n",
       "      <td>34</td>\n",
       "    </tr>\n",
       "    <tr>\n",
       "      <th>34</th>\n",
       "      <td>1999760991</td>\n",
       "      <td>2017-01-07 21:53:00</td>\n",
       "      <td>401</td>\n",
       "      <td>34</td>\n",
       "    </tr>\n",
       "    <tr>\n",
       "      <th>34</th>\n",
       "      <td>1999760991</td>\n",
       "      <td>2017-01-08 22:19:00</td>\n",
       "      <td>401</td>\n",
       "      <td>34</td>\n",
       "    </tr>\n",
       "    <tr>\n",
       "      <th>34</th>\n",
       "      <td>1999760991</td>\n",
       "      <td>2017-01-11 18:10:00</td>\n",
       "      <td>512</td>\n",
       "      <td>34</td>\n",
       "    </tr>\n",
       "    <tr>\n",
       "      <th>34</th>\n",
       "      <td>1999760991</td>\n",
       "      <td>2017-01-13 18:00:00</td>\n",
       "      <td>537</td>\n",
       "      <td>34</td>\n",
       "    </tr>\n",
       "    <tr>\n",
       "      <th>34</th>\n",
       "      <td>1999760991</td>\n",
       "      <td>2017-01-13 18:01:00</td>\n",
       "      <td>537</td>\n",
       "      <td>34</td>\n",
       "    </tr>\n",
       "    <tr>\n",
       "      <th>34</th>\n",
       "      <td>1999760991</td>\n",
       "      <td>2017-01-13 19:01:00</td>\n",
       "      <td>537</td>\n",
       "      <td>34</td>\n",
       "    </tr>\n",
       "    <tr>\n",
       "      <th>34</th>\n",
       "      <td>1999760991</td>\n",
       "      <td>2017-01-13 20:25:00</td>\n",
       "      <td>401</td>\n",
       "      <td>34</td>\n",
       "    </tr>\n",
       "    <tr>\n",
       "      <th>34</th>\n",
       "      <td>1999760991</td>\n",
       "      <td>2017-01-14 20:22:00</td>\n",
       "      <td>401</td>\n",
       "      <td>34</td>\n",
       "    </tr>\n",
       "    <tr>\n",
       "      <th>34</th>\n",
       "      <td>1999760991</td>\n",
       "      <td>2017-01-15 18:28:00</td>\n",
       "      <td>401</td>\n",
       "      <td>34</td>\n",
       "    </tr>\n",
       "    <tr>\n",
       "      <th>34</th>\n",
       "      <td>1999760991</td>\n",
       "      <td>2017-01-15 21:01:00</td>\n",
       "      <td>401</td>\n",
       "      <td>34</td>\n",
       "    </tr>\n",
       "    <tr>\n",
       "      <th>34</th>\n",
       "      <td>1999760991</td>\n",
       "      <td>2017-01-15 21:25:00</td>\n",
       "      <td>401</td>\n",
       "      <td>34</td>\n",
       "    </tr>\n",
       "    <tr>\n",
       "      <th>34</th>\n",
       "      <td>1999760991</td>\n",
       "      <td>2017-01-16 19:22:00</td>\n",
       "      <td>386</td>\n",
       "      <td>34</td>\n",
       "    </tr>\n",
       "  </tbody>\n",
       "</table>\n",
       "<p>87594 rows × 4 columns</p>\n",
       "</div>"
      ],
      "text/plain": [
       "                     CALLER_ID           TIMESTAMP   ID  CITY_ID\n",
       "CALLER_ID  CITY_ID                                              \n",
       "1100144895 7        1100144895 2017-01-02 20:40:00  568        7\n",
       "           7        1100144895 2017-01-02 21:41:00  568        7\n",
       "           7        1100144895 2017-01-06 21:38:00  568        7\n",
       "           7        1100144895 2017-01-06 21:44:00  568        7\n",
       "           7        1100144895 2017-01-06 21:58:00  568        7\n",
       "           7        1100144895 2017-01-08 22:31:00  568        7\n",
       "           7        1100144895 2017-01-11 21:02:00  568        7\n",
       "           7        1100144895 2017-01-11 22:26:00  568        7\n",
       "           7        1100144895 2017-01-13 21:04:00  568        7\n",
       "1100239022 6        1100239022 2017-01-05 18:29:00  528        6\n",
       "           6        1100239022 2017-01-05 18:58:00  528        6\n",
       "           6        1100239022 2017-01-05 19:34:00  689        6\n",
       "           6        1100239022 2017-01-05 19:56:00  689        6\n",
       "           6        1100239022 2017-01-06 18:43:00  528        6\n",
       "           6        1100239022 2017-01-06 18:44:00  528        6\n",
       "           6        1100239022 2017-01-06 19:09:00  528        6\n",
       "           6        1100239022 2017-01-06 20:02:00  528        6\n",
       "           6        1100239022 2017-01-07 19:23:00  528        6\n",
       "           6        1100239022 2017-01-07 20:25:00  528        6\n",
       "           6        1100239022 2017-01-08 19:21:00  528        6\n",
       "           6        1100239022 2017-01-09 19:57:00  528        6\n",
       "           6        1100239022 2017-01-09 20:28:00  528        6\n",
       "           6        1100239022 2017-01-11 18:37:00  528        6\n",
       "           6        1100239022 2017-01-11 19:33:00  528        6\n",
       "           6        1100239022 2017-01-11 19:34:00  528        6\n",
       "           6        1100239022 2017-01-12 18:35:00  528        6\n",
       "           6        1100239022 2017-01-12 19:19:00  528        6\n",
       "           6        1100239022 2017-01-12 20:43:00  528        6\n",
       "           6        1100239022 2017-01-16 18:50:00  528        6\n",
       "           6        1100239022 2017-01-16 19:31:00  528        6\n",
       "...                        ...                 ...  ...      ...\n",
       "1999665531 34       1999665531 2017-01-12 19:13:00  386       34\n",
       "           34       1999665531 2017-01-12 19:33:00  386       34\n",
       "           34       1999665531 2017-01-12 19:38:00  386       34\n",
       "           34       1999665531 2017-01-14 19:30:00  386       34\n",
       "           34       1999665531 2017-01-15 21:56:00  386       34\n",
       "           34       1999665531 2017-01-16 19:10:00  386       34\n",
       "1999760991 34       1999760991 2017-01-01 18:23:00  401       34\n",
       "           34       1999760991 2017-01-02 18:02:00  537       34\n",
       "           34       1999760991 2017-01-02 18:08:00  537       34\n",
       "           34       1999760991 2017-01-02 18:22:00  537       34\n",
       "           34       1999760991 2017-01-02 18:30:00  537       34\n",
       "           34       1999760991 2017-01-02 19:42:00  537       34\n",
       "           34       1999760991 2017-01-02 20:43:00  537       34\n",
       "           34       1999760991 2017-01-03 19:42:00  537       34\n",
       "           34       1999760991 2017-01-05 18:46:00  537       34\n",
       "           34       1999760991 2017-01-05 23:05:00  401       34\n",
       "           34       1999760991 2017-01-06 23:23:00  401       34\n",
       "           34       1999760991 2017-01-06 23:30:00  401       34\n",
       "           34       1999760991 2017-01-07 21:53:00  401       34\n",
       "           34       1999760991 2017-01-08 22:19:00  401       34\n",
       "           34       1999760991 2017-01-11 18:10:00  512       34\n",
       "           34       1999760991 2017-01-13 18:00:00  537       34\n",
       "           34       1999760991 2017-01-13 18:01:00  537       34\n",
       "           34       1999760991 2017-01-13 19:01:00  537       34\n",
       "           34       1999760991 2017-01-13 20:25:00  401       34\n",
       "           34       1999760991 2017-01-14 20:22:00  401       34\n",
       "           34       1999760991 2017-01-15 18:28:00  401       34\n",
       "           34       1999760991 2017-01-15 21:01:00  401       34\n",
       "           34       1999760991 2017-01-15 21:25:00  401       34\n",
       "           34       1999760991 2017-01-16 19:22:00  386       34\n",
       "\n",
       "[87594 rows x 4 columns]"
      ]
     },
     "execution_count": 133,
     "metadata": {},
     "output_type": "execute_result"
    }
   ],
   "source": [
    "ref_evening = refugee_calls[(refugee_calls.TIMESTAMP.dt.hour >=18) | (refugee_calls.TIMESTAMP.dt.hour <=7)]\n",
    "ref_evening = ref_evening.set_index(['CALLER_ID', 'CITY_ID'], drop = False)\n",
    "ref_evening"
   ]
  },
  {
   "cell_type": "code",
   "execution_count": 147,
   "metadata": {},
   "outputs": [
    {
     "name": "stderr",
     "output_type": "stream",
     "text": [
      "/home/arnau/miniconda3/envs/py/lib/python3.6/site-packages/ipykernel_launcher.py:1: FutureWarning: 'CALLER_ID' is both an index level and a column label.\n",
      "Defaulting to column, but this will raise an ambiguity error in a future version\n",
      "  \"\"\"Entry point for launching an IPython kernel.\n"
     ]
    }
   ],
   "source": [
    "mobile = ref_evening.groupby('CALLER_ID')['CITY_ID'].apply(lambda g: len(g.unique())>1)"
   ]
  },
  {
   "cell_type": "code",
   "execution_count": 148,
   "metadata": {
    "collapsed": true
   },
   "outputs": [
    {
     "name": "stdout",
     "output_type": "stream",
     "text": [
      "there are 5132 callers out ot 50,000 refugees who moved cities\n"
     ]
    }
   ],
   "source": [
    "print ('there are {} callers out ot 50,000 refugees who moved cities'.format(len(mobile)))"
   ]
  },
  {
   "cell_type": "markdown",
   "metadata": {},
   "source": [
    "Calculated cities moved between (i.e. were in 'residence' for for more that 4 nights) "
   ]
  },
  {
   "cell_type": "code",
   "execution_count": null,
   "metadata": {
    "collapsed": true
   },
   "outputs": [],
   "source": [
    "#for i in mobile:\n",
    "#    moved = [evening_location[i]['cities'][0]]\n",
    "#    date_moved =  date[0]\n",
    "#    for j in range(1,len(evening_location[i]['cities'])):\n",
    "#        if evening_location[i]['cities'][j] != evening_location[i]['cities'][j-1]:\n",
    "#            diff = np.timedelta64(evening_location[i]['dates'][j-1]-date_moved)\n",
    "#            diff = int(diff.astype('timedelta64[D]') / np.timedelta64(1, 'D'))\n",
    "#            if diff >=4:\n",
    "#                moved.append(evening_location[i]['cities'][j-1])\n",
    "#        date_moved = evening_location[i]['dates'][j]\n",
    "#    evening_location[i]['moved'] = moved"
   ]
  },
  {
   "cell_type": "code",
   "execution_count": null,
   "metadata": {
    "collapsed": true
   },
   "outputs": [],
   "source": [
    "for i in mobile:\n",
    "    moved = []\n",
    "    moved.append(evening_location[i]['cities'][0])\n",
    "    counter = 0\n",
    "    for j in range(1,len(evening_location[i]['cities'])):\n",
    "        if evening_location[i]['cities'][j] == evening_location[i]['cities'][j-1]:\n",
    "            counter += 1\n",
    "        else:\n",
    "            counter = 0\n",
    "        if counter == 4 and evening_location[i]['cities'][j] != moved[-1]:\n",
    "            moved.append(evening_location[i]['cities'][j])\n",
    "    evening_location[i]['moved'] = moved"
   ]
  },
  {
   "cell_type": "code",
   "execution_count": null,
   "metadata": {
    "collapsed": true
   },
   "outputs": [],
   "source": [
    "low_mobility = []\n",
    "medium_mobility = []\n",
    "high_mobility = []\n",
    "for i in mobile:\n",
    "    if len(evening_location[i]['moved']) <=2:\n",
    "        low_mobility.append(i)\n",
    "    elif 2 < len(evening_location[i]['moved']) <=5:\n",
    "        medium_mobility.append(i)\n",
    "    else:\n",
    "        high_mobility.append(i)"
   ]
  },
  {
   "cell_type": "code",
   "execution_count": null,
   "metadata": {
    "collapsed": true
   },
   "outputs": [],
   "source": [
    "print ('There are {} refugees classed as low mobility'.format(len(low_mobility)))\n",
    "print ('There are {} refugees classed as medium mobility'.format(len(medium_mobility)))\n",
    "print ('There are {} refugees classed as high mobility'.format(len(high_mobility)))"
   ]
  },
  {
   "cell_type": "markdown",
   "metadata": {},
   "source": [
    "### Compare against non-refugee population"
   ]
  },
  {
   "cell_type": "code",
   "execution_count": null,
   "metadata": {
    "collapsed": true
   },
   "outputs": [],
   "source": [
    "non_to_analyse = np.unique(callerID[prefix==1])"
   ]
  },
  {
   "cell_type": "code",
   "execution_count": null,
   "metadata": {
    "collapsed": true
   },
   "outputs": [],
   "source": [
    "non_h1 = callerID[timestamp.hour >= 18]\n",
    "non_h2 = callerID[timestamp.hour <= 7]\n",
    "non_h = np.append(non_h1,non_h2)\n",
    "non_overlap = np.intersect1d(non_h,non_to_analyse)"
   ]
  },
  {
   "cell_type": "code",
   "execution_count": null,
   "metadata": {
    "collapsed": true
   },
   "outputs": [],
   "source": [
    "non_evening_location = {}\n",
    "for i in non_overlap:\n",
    "    non_evening_location[str(i)] = {\n",
    "        'cities':[],\n",
    "        'dates':[]\n",
    "    }"
   ]
  },
  {
   "cell_type": "code",
   "execution_count": null,
   "metadata": {
    "collapsed": true
   },
   "outputs": [],
   "source": [
    "##bottleneck - could parallelise better\n",
    "for i in non_overlap:\n",
    "    location =  np.where(callerID == i)\n",
    "    cities = cityID[location[0]]\n",
    "    non_evening_location[i]['cities'] = cities\n",
    "    dates = date[location[0]]\n",
    "    non_evening_location[i]['dates'] = dates"
   ]
  },
  {
   "cell_type": "code",
   "execution_count": null,
   "metadata": {
    "collapsed": true
   },
   "outputs": [],
   "source": [
    "with open(\"non_evening_location.txt\", \"wb\") as fp:   #Pickling\n",
    "    pickle.dump(non_evening_location, fp)"
   ]
  },
  {
   "cell_type": "code",
   "execution_count": null,
   "metadata": {
    "collapsed": true
   },
   "outputs": [],
   "source": [
    "with open(\"non_evening_location.txt\", \"rb\") as fp:   # Unpickling\n",
    "    non_evening_location = pickle.load(fp)"
   ]
  },
  {
   "cell_type": "code",
   "execution_count": null,
   "metadata": {
    "collapsed": true
   },
   "outputs": [],
   "source": [
    "non_mobile = [] #find the refugees who spend their time in more that one city in the evening over the month\n",
    "for i in non_evening_location:\n",
    "    unique, counts = np.unique(non_evening_location[i]['cities'], return_counts=True)\n",
    "    if len(unique) > 1:\n",
    "        non_mobile.append(i)"
   ]
  },
  {
   "cell_type": "code",
   "execution_count": null,
   "metadata": {
    "collapsed": true
   },
   "outputs": [],
   "source": [
    "print ('there are {} callers out ot 50,000 non-refugees who moved cities'.format(len(non_mobile)))"
   ]
  },
  {
   "cell_type": "code",
   "execution_count": null,
   "metadata": {
    "collapsed": true
   },
   "outputs": [],
   "source": [
    "print ('there are {} times as many refugees who moved cities as non-refugees'.format(\n",
    "    round(float(len(mobile))/float(len(non_mobile)),2)))"
   ]
  }
 ],
 "metadata": {
  "kernelspec": {
   "display_name": "Python 3",
   "language": "python",
   "name": "python3"
  },
  "language_info": {
   "codemirror_mode": {
    "name": "ipython",
    "version": 3
   },
   "file_extension": ".py",
   "mimetype": "text/x-python",
   "name": "python",
   "nbconvert_exporter": "python",
   "pygments_lexer": "ipython3",
   "version": "3.6.6"
  }
 },
 "nbformat": 4,
 "nbformat_minor": 2
}
